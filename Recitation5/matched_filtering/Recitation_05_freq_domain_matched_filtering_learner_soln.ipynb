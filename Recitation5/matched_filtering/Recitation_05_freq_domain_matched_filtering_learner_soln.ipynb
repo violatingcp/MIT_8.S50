{
 "cells": [
  {
   "cell_type": "markdown",
   "metadata": {},
   "source": [
    "<!--start-block-->\n",
    "<hr style=\"height: 1px;\">\n",
    "<i>This code was authored by the 8.S50x Course Team, Copyright 2021 MIT All Rights Reserved.</i>\n",
    "<hr style=\"height: 1px;\">\n",
    "<br>\n",
    "\n",
    "# RECITATION 5: Matched Filtering $\\mathrm{-}$ Frequency Domain\n",
    "\n",
    "<br>\n",
    "<!--end-block--> "
   ]
  },
  {
   "cell_type": "markdown",
   "metadata": {},
   "source": [
    "<!--start-block-->\n",
    "<hr style=\"height: 1px;\">\n",
    "\n",
    "## 5.0 Overview of Learning Objectives\n",
    "\n",
    "In this recitation we will explore the following objectives:\n",
    "\n",
    "- fill in information\n",
    "\n",
    "<br>\n",
    "<!--end-block-->"
   ]
  },
  {
   "cell_type": "markdown",
   "metadata": {},
   "source": [
    "<!--start-block-->\n",
    "<hr style=\"height: 1px;\">\n",
    "\n",
    "## 5.1 Exercise\n",
    "\n",
    "[TEXT NEEDED]"
   ]
  },
  {
   "cell_type": "markdown",
   "metadata": {},
   "source": [
    "<!--start-block-->\n",
    "#### <span style=\"color:green\">>>>RUN</span>\n",
    "\n",
    "Run the cells below to..."
   ]
  },
  {
   "cell_type": "code",
   "execution_count": null,
   "metadata": {},
   "outputs": [],
   "source": [
    "import numpy as np\n",
    "import matplotlib.pyplot as plt\n",
    "import scipy.signal as sig\n",
    "import h5py"
   ]
  },
  {
   "cell_type": "code",
   "execution_count": null,
   "metadata": {},
   "outputs": [],
   "source": [
    "#-------------------------------------\n",
    "#-- Read in data and template\n",
    "#-------------------------------------\n",
    "fs = 4096\n",
    "dataFile = h5py.File('data_w_signal.hdf5', 'r')\n",
    "data = dataFile['strain/Strain'][...]\n",
    "dataFile.close()\n",
    "time = np.arange(0, 16, 1./fs)\n",
    "\n",
    "templateFile = h5py.File('template.hdf5', 'r')\n",
    "template = templateFile['strain/Strain'][...]\n",
    "temp_time = np.arange(0, template.size / (1.0*fs), 1./fs)\n",
    "templateFile.close()"
   ]
  },
  {
   "cell_type": "markdown",
   "metadata": {},
   "source": [
    "<!--start-block-->\n",
    "#### <span style=\"color:green\">>>>RUN</span>\n",
    "\n",
    "Run the cells below to..."
   ]
  },
  {
   "cell_type": "code",
   "execution_count": null,
   "metadata": {},
   "outputs": [],
   "source": [
    "#------------------------\n",
    "# Plot data and template\n",
    "#------------------------\n",
    "plt.figure()\n",
    "plt.plot(time,data)\n",
    "plt.xlabel('Time (s)')\n",
    "plt.ylabel('Strain')\n",
    "\n",
    "plt.figure()\n",
    "plt.plot(temp_time, template)\n",
    "plt.xlabel('Time (s)')\n",
    "plt.ylabel('Strain')\n",
    "plt.title('Template')"
   ]
  },
  {
   "cell_type": "markdown",
   "metadata": {},
   "source": [
    "<!--start-block-->\n",
    "#### <span style=\"color:green\">>>>RUN</span>\n",
    "\n",
    "Run the cells below to..."
   ]
  },
  {
   "cell_type": "code",
   "execution_count": null,
   "metadata": {},
   "outputs": [],
   "source": [
    "#------------------------\n",
    "# Plot ASD of data\n",
    "#-----------------------\n",
    "plt.figure()\n",
    "power_data, freq_psd = plt.psd(data[12*fs:], Fs=fs, NFFT=fs, visible=False)\n",
    "plt.close()\n",
    "plt.figure()\n",
    "plt.loglog(freq_psd, np.sqrt(power_data), 'b')\n",
    "plt.xlim([20, 2048])\n",
    "plt.xlabel('Frequency (Hz)')\n",
    "plt.ylabel('ASD')\n",
    "plt.grid('on')"
   ]
  },
  {
   "cell_type": "markdown",
   "metadata": {},
   "source": [
    "<!--start-block-->\n",
    "#### <span style=\"color:green\">>>>RUN</span>\n",
    "\n",
    "Run the cells below to..."
   ]
  },
  {
   "cell_type": "code",
   "execution_count": null,
   "metadata": {},
   "outputs": [],
   "source": [
    "#----------------------\n",
    "# Plot ASD of template\n",
    "#----------------------\n",
    "power, freq = plt.psd(template, Fs=fs, NFFT=fs, visible=False)\n",
    "plt.loglog(freq, np.sqrt(power), 'r')\n",
    "plt.xlabel('Frequency (Hz)')\n",
    "plt.ylabel('ASD')\n",
    "plt.grid('on')\n"
   ]
  },
  {
   "cell_type": "markdown",
   "metadata": {},
   "source": [
    "<!--start-block-->\n",
    "#### <span style=\"color:green\">>>>RUN</span>\n",
    "\n",
    "Run the cells below to..."
   ]
  },
  {
   "cell_type": "code",
   "execution_count": null,
   "metadata": {},
   "outputs": [],
   "source": [
    "#-------------------------------------\n",
    "# Apply a bandpass filter to the data\n",
    "#------------------------------------\n",
    "(B,A) = sig.butter(4, [80/(fs/2.0), 250/(fs/2.0)], btype='pass')\n",
    "data_pass= sig.lfilter(B, A, data)\n",
    "plt.figure()\n",
    "plt.plot(time, data_pass)\n",
    "plt.title('Band passed data')\n",
    "plt.xlabel('Time (s)')"
   ]
  },
  {
   "cell_type": "markdown",
   "metadata": {},
   "source": [
    "<!--start-block-->\n",
    "#### <span style=\"color:green\">>>>RUN</span>\n",
    "\n",
    "Run the cells below to..."
   ]
  },
  {
   "cell_type": "code",
   "execution_count": null,
   "metadata": {
    "scrolled": true
   },
   "outputs": [],
   "source": [
    "correlated_raw = np.correlate(data, template, 'valid')\n",
    "correlated_passed = np.correlate(data_pass, template, 'valid')\n",
    "plt.figure()\n",
    "plt.plot(correlated_raw)\n",
    "plt.figure()\n",
    "plt.plot(correlated_passed)"
   ]
  },
  {
   "cell_type": "markdown",
   "metadata": {},
   "source": [
    "<!--start-block-->\n",
    "#### <span style=\"color:green\">>>>RUN</span>\n",
    "\n",
    "Run the cells below to..."
   ]
  },
  {
   "cell_type": "code",
   "execution_count": null,
   "metadata": {},
   "outputs": [],
   "source": [
    "#------------------------------\n",
    "# Optimal Filter, freq. domain\n",
    "#------------------------------\n",
    "#-- Take the FFT of the data\n",
    "data_fft=np.fft.fft(data)\n",
    "\n",
    "#--- Pad template and take FFT (sometimes instead of padding people will just window both data and template)\n",
    "zero_pad = np.zeros(data.size - template.size)\n",
    "template_padded = np.append(template, zero_pad)\n",
    "template_fft = np.fft.fft(template_padded)\n",
    "\n",
    "# Next, we need an estimate of the noise power in each FFT bin. We take the PSD of the last 4 seconds\n",
    "# Assuming there's no signal there and just noise\n",
    "# The numpy FFT returns and array with a particular convention for the order of frequency bins, so we need to interpolate\n",
    "# the PSD to estimate values at each FFT frequency\n",
    "\n",
    "# --- Match FFT frequency bins to PSD frequency bins\n",
    "datafreq = np.fft.fftfreq(data.size)*fs\n",
    "power_vec = np.interp(datafreq, freq_psd, power_data)\n",
    "\n",
    "# -- Calculate the matched filter:\n",
    "# Multiply the Fourier Space template and data, and divide by the noise power in each frequency bin.\n",
    "# Taking the Inverse Fourier Transform (IFFT) of the filter output puts it back in the time domain,\n",
    "# so the result will be plotted as a function of time off-set between the template and the data:\n",
    "optimal = data_fft * template_fft.conjugate() / power_vec\n",
    "optimal_time = 2*np.fft.ifft(optimal)\n",
    "\n",
    "# -- Normalize the matched filter output\n",
    "df = np.abs(datafreq[1] - datafreq[0])\n",
    "sigmasq = 2*(template_fft * template_fft.conjugate() / power_vec).sum() * df\n",
    "sigma = np.sqrt(np.abs(sigmasq))\n",
    "SNR = abs(optimal_time) / (sigma)\n",
    "\n",
    "#To find the exact time you could maximize a SNR array perhaps\n",
    "# -- Plot the result\n",
    "plt.figure()\n",
    "plt.plot(time, SNR)\n",
    "plt.title('Optimal Matched Filter')\n",
    "plt.xlabel('Offset time (s)')\n",
    "plt.ylabel('SNR')\n",
    "plt.show()"
   ]
  },
  {
   "cell_type": "markdown",
   "metadata": {},
   "source": [
    "<!--start-block-->\n",
    "#### <span style=\"color:purple\">>>>QUESTION</span>\n",
    "\n",
    "\n",
    "Question text needed...\n",
    "\n",
    "\n",
    "<br>\n",
    "<!--end-block-->"
   ]
  },
  {
   "cell_type": "code",
   "execution_count": null,
   "metadata": {},
   "outputs": [],
   "source": []
  }
 ],
 "metadata": {
  "kernelspec": {
   "display_name": "Python 3",
   "language": "python",
   "name": "python3"
  },
  "language_info": {
   "codemirror_mode": {
    "name": "ipython",
    "version": 3
   },
   "file_extension": ".py",
   "mimetype": "text/x-python",
   "name": "python",
   "nbconvert_exporter": "python",
   "pygments_lexer": "ipython3",
   "version": "3.7.1"
  }
 },
 "nbformat": 4,
 "nbformat_minor": 4
}
