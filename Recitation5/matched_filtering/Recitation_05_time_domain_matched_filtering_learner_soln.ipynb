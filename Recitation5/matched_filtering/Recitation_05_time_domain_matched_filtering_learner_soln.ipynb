{
 "cells": [
  {
   "cell_type": "markdown",
   "metadata": {},
   "source": [
    "<!--start-block-->\n",
    "<hr style=\"height: 1px;\">\n",
    "<i>This code was authored by the 8.S50x Course Team, Copyright 2021 MIT All Rights Reserved.</i>\n",
    "<hr style=\"height: 1px;\">\n",
    "<br>\n",
    "\n",
    "# RECITATION 5c: Matched Filtering $\\mathrm{-}$ Time Domain\n",
    "\n",
    "<br>\n",
    "<!--end-block--> "
   ]
  },
  {
   "cell_type": "markdown",
   "metadata": {},
   "source": [
    "<!--start-block-->\n",
    "<hr style=\"height: 1px;\">\n",
    "\n",
    "## 5c.0 Overview of Learning Objectives\n",
    "\n",
    "In this recitation we will explore the following objectives:\n",
    "\n",
    "- fill in information\n",
    "\n",
    "<br>\n",
    "<!--end-block-->"
   ]
  },
  {
   "cell_type": "markdown",
   "metadata": {},
   "source": [
    "<!--start-block-->\n",
    "<hr style=\"height: 1px;\">\n",
    "\n",
    "## 5c.1 Exercise\n",
    "\n",
    "[TEXT NEEDED]"
   ]
  },
  {
   "cell_type": "markdown",
   "metadata": {},
   "source": [
    "<!--start-block-->\n",
    "#### <span style=\"color:green\">>>>RUN</span>\n",
    "\n",
    "Run the cells below to..."
   ]
  },
  {
   "cell_type": "code",
   "execution_count": null,
   "metadata": {},
   "outputs": [],
   "source": [
    "#----------------------------------------------------------------\n",
    "# Load libraries\n",
    "#----------------------------------------------------------------\n",
    "import numpy as np\n",
    "import math\n",
    "from gwpy.timeseries import TimeSeries\n",
    "\n",
    "import matplotlib.pyplot as plt\n",
    "import matplotlib.mlab as mlab\n",
    "import h5py\n",
    "\n",
    "import os\n",
    "\n",
    "%matplotlib inline"
   ]
  },
  {
   "cell_type": "code",
   "execution_count": null,
   "metadata": {},
   "outputs": [],
   "source": [
    "print('# [Hidden code]: Define the model function w(t) here.')\n",
    "print('def osc(t, Mc, t0, C, phi):')\n",
    "\n",
    "#----------------------------------------------------------------\n",
    "# Wave form analytic\n",
    "#----------------------------------------------------------------\n",
    "def spike(t,offset,slope,t0):\n",
    "    val = offset\n",
    "    val = val + (t-(t0-100))*slope*(t>=t0-100)*(t<=t0) - (t-t0)*slope*(t>t0)*(t<=(t0+100))\n",
    "    return val \n",
    "\n",
    "### Build some toy data ###\n",
    "### 1000 time steps with this glitch centered at 500 ###\n",
    "vals =[]\n",
    "sample_times = np.linspace(0,1000,1000)\n",
    "for t in sample_times:\n",
    "    vals.append(spike(t,300,6,500))\n",
    "toy_data = vals\n",
    "plt.plot(sample_times, vals)\n",
    "plt.show()"
   ]
  },
  {
   "cell_type": "markdown",
   "metadata": {},
   "source": [
    "<!--start-block-->\n",
    "#### <span style=\"color:green\">>>>RUN</span>\n",
    "\n",
    "Run the cells below to..."
   ]
  },
  {
   "cell_type": "code",
   "execution_count": null,
   "metadata": {},
   "outputs": [],
   "source": [
    "# define difference function for lmfit::minimize()\n",
    "\n",
    "def spike_dif(params,x,data,eps):\n",
    "    ioffset = params['offset']\n",
    "    iT0 = params['t0']\n",
    "    islope = params['slope']\n",
    "    val = spike(x,ioffset,islope,iT0)\n",
    "    return (val-data)/eps"
   ]
  },
  {
   "cell_type": "code",
   "execution_count": null,
   "metadata": {},
   "outputs": [],
   "source": [
    "#----------------------------------------------------------------\n",
    "# Fit\n",
    "#----------------------------------------------------------------\n",
    "\n",
    "sample_times = np.linspace(0,1000,1000)\n",
    "sample_data = toy_data\n",
    "\n",
    "plt.figure(figsize=(12, 4))\n",
    "plt.subplots_adjust(left=0.1, right=0.9, top=0.85, bottom=0.2)\n",
    "plt.plot(sample_times, sample_data)\n",
    "plt.xlabel('Time (s)')\n",
    "plt.ylabel('amplitude')\n",
    "\n",
    "import lmfit\n",
    "from lmfit import Model, minimize, fit_report, Parameters\n",
    "### Lets fit this model to the model basically \n",
    "model = lmfit.Model(spike)\n",
    "### Give it some slighlty offset parameters and it should snap to what we need\n",
    "p = model.make_params()\n",
    "p['offset'].set(6)\n",
    "p['t0'].set(450)\n",
    "p['slope'].set(7)\n",
    "unc = np.full(len(sample_data),20)\n",
    "out = minimize(spike_dif, params=p, args=(sample_times, toy_data, unc))\n",
    "print(fit_report(out))\n",
    "plt.plot(sample_times, model.eval(params=out.params,t=sample_times),'r',label='best fit')\n",
    "plt.show()"
   ]
  },
  {
   "cell_type": "markdown",
   "metadata": {},
   "source": [
    "<!--start-block-->\n",
    "#### <span style=\"color:green\">>>>RUN</span>\n",
    "\n",
    "Run the cells below to..."
   ]
  },
  {
   "cell_type": "code",
   "execution_count": null,
   "metadata": {},
   "outputs": [],
   "source": [
    "## Now lets buffer this data to simulate us not knowing where it is ##\n",
    "data_times = np.linspace(0,10000,10000)\n",
    "front_buffer = np.full(5000,300)\n",
    "end_buffer = np.full(4000,300)\n",
    "data = np.concatenate([front_buffer,toy_data,end_buffer])\n",
    "plt.plot(data_times,data)\n",
    "plt.show()"
   ]
  },
  {
   "cell_type": "markdown",
   "metadata": {},
   "source": [
    "<!--start-block-->\n",
    "#### <span style=\"color:green\">>>>RUN</span>\n",
    "\n",
    "Run the cells below to..."
   ]
  },
  {
   "cell_type": "code",
   "execution_count": null,
   "metadata": {},
   "outputs": [],
   "source": [
    "## Specify this buffered signal as out data ##\n",
    "data_times = np.linspace(0,10000,10000)\n",
    "front_buffer = np.full(5000,300)\n",
    "end_buffer = np.full(4000,300)\n",
    "data = np.concatenate([front_buffer,toy_data,end_buffer])\n",
    "\n",
    "import lmfit\n",
    "from lmfit import Model, minimize, fit_report, Parameters"
   ]
  },
  {
   "cell_type": "code",
   "execution_count": null,
   "metadata": {},
   "outputs": [],
   "source": [
    "findxt1 = np.where((data_times >= 5200-300) & (data_times < 5200+300))\n",
    "times1= data_times[findxt1]\n",
    "times1 = times1 - times1[0]\n",
    "window_data1 = data[findxt1]\n",
    "model = lmfit.Model(spike)\n",
    "p = model.make_params()\n",
    "p['offset'].set(300)\n",
    "p['t0'].set(350)\n",
    "p['slope'].set(7)\n",
    "unc = np.full(len(window_data1),20)\n",
    "out = minimize(spike_dif, params=p, args=(times1, window_data1, unc))\n",
    "print(fit_report(out))\n",
    "plt.plot(times1,window_data1)\n",
    "plt.plot(times1, model.eval(params=out.params,t=times1),'r',label='best fit')\n",
    "print(abs(out.params[\"slope\"].value/out.params[\"slope\"].stderr))"
   ]
  },
  {
   "cell_type": "markdown",
   "metadata": {},
   "source": [
    "<!--start-block-->\n",
    "#### <span style=\"color:green\">>>>RUN</span>\n",
    "\n",
    "Run the cells below to..."
   ]
  },
  {
   "cell_type": "code",
   "execution_count": null,
   "metadata": {},
   "outputs": [],
   "source": [
    "findxt2 = np.where((data_times >= 5300-300) & (data_times < 5300+300))\n",
    "times2= data_times[findxt2]\n",
    "times2 = times2 - times2[0]\n",
    "window_data2 = data[findxt2]\n",
    "model = lmfit.Model(spike)\n",
    "p = model.make_params()\n",
    "p['offset'].set(300)\n",
    "p['t0'].set(350)\n",
    "p['slope'].set(7)\n",
    "unc = np.full(len(window_data2),20)\n",
    "out = minimize(spike_dif, params=p, args=(times2, window_data2, unc))\n",
    "print(fit_report(out))\n",
    "plt.plot(times2,window_data2)\n",
    "plt.plot(times2, model.eval(params=out.params,t=times2),'r',label='best fit')\n",
    "print(abs(out.params[\"slope\"].value/out.params[\"slope\"].stderr))"
   ]
  },
  {
   "cell_type": "markdown",
   "metadata": {},
   "source": [
    "<!--start-block-->\n",
    "#### <span style=\"color:green\">>>>RUN</span>\n",
    "\n",
    "Run the cells below to..."
   ]
  },
  {
   "cell_type": "code",
   "execution_count": null,
   "metadata": {
    "scrolled": false
   },
   "outputs": [],
   "source": [
    "findxt3 = np.where((data_times >= 5400-300) & (data_times < 5400+300))\n",
    "times3= data_times[findxt3]\n",
    "times3 = times3 - times3[0]\n",
    "window_data3 = data[findxt3]\n",
    "model = lmfit.Model(spike)\n",
    "p = model.make_params()\n",
    "p['offset'].set(300)\n",
    "p['t0'].set(350)\n",
    "p['slope'].set(7)\n",
    "unc = np.full(len(window_data3),20)\n",
    "out = minimize(spike_dif, params=p, args=(times3, window_data3, unc))\n",
    "print(fit_report(out))\n",
    "plt.plot(times3,window_data3)\n",
    "plt.plot(times3, model.eval(params=out.params,t=times3),'r',label='best fit')\n",
    "print(abs(out.params[\"slope\"].value/out.params[\"slope\"].stderr))"
   ]
  },
  {
   "cell_type": "markdown",
   "metadata": {},
   "source": [
    "<!--start-block-->\n",
    "#### <span style=\"color:green\">>>>RUN</span>\n",
    "\n",
    "Run the cells below to..."
   ]
  },
  {
   "cell_type": "code",
   "execution_count": null,
   "metadata": {},
   "outputs": [],
   "source": [
    "plt.stem([5200,5300,5400,5500,5600,5700],[0.0009230075661246493,7.058921192813714,19195.880231760035,19195.880231760035,1.2384698060976125e-06,0])\n",
    "plt.show()"
   ]
  },
  {
   "cell_type": "markdown",
   "metadata": {},
   "source": [
    "<!--start-block-->\n",
    "#### <span style=\"color:green\">>>>RUN</span>\n",
    "\n",
    "Run the cells below to..."
   ]
  },
  {
   "cell_type": "code",
   "execution_count": null,
   "metadata": {},
   "outputs": [],
   "source": [
    "plt.figure(figsize=(12, 4))\n",
    "plt.subplots_adjust(left=0.1, right=0.9, top=0.85, bottom=0.2)\n",
    "plt.plot(times, sigs)\n",
    "plt.xlabel('Time (s)')\n",
    "plt.ylabel('N/$\\sigma_{N}$')\n",
    "plt.show()"
   ]
  },
  {
   "cell_type": "markdown",
   "metadata": {},
   "source": [
    "<!--start-block-->\n",
    "#### <span style=\"color:green\">>>>RUN</span>\n",
    "\n",
    "Run the cells below to..."
   ]
  },
  {
   "cell_type": "code",
   "execution_count": null,
   "metadata": {},
   "outputs": [],
   "source": [
    "plt.figure(figsize=(12, 4))\n",
    "plt.subplots_adjust(left=0.1, right=0.9, top=0.85, bottom=0.2)\n",
    "plt.plot(times, chi2)\n",
    "plt.xlabel('Time (s)')\n",
    "plt.ylabel('$\\chi^{2}$')\n",
    "plt.show()"
   ]
  },
  {
   "cell_type": "markdown",
   "metadata": {},
   "source": [
    "<!--start-block-->\n",
    "#### <span style=\"color:purple\">>>>QUESTION</span>\n",
    "\n",
    "\n",
    "Question text needed...\n",
    "\n",
    "\n",
    "<br>\n",
    "<!--end-block-->"
   ]
  },
  {
   "cell_type": "code",
   "execution_count": null,
   "metadata": {},
   "outputs": [],
   "source": []
  }
 ],
 "metadata": {
  "kernelspec": {
   "display_name": "Python 3",
   "language": "python",
   "name": "python3"
  },
  "language_info": {
   "codemirror_mode": {
    "name": "ipython",
    "version": 3
   },
   "file_extension": ".py",
   "mimetype": "text/x-python",
   "name": "python",
   "nbconvert_exporter": "python",
   "pygments_lexer": "ipython3",
   "version": "3.7.1"
  }
 },
 "nbformat": 4,
 "nbformat_minor": 4
}
