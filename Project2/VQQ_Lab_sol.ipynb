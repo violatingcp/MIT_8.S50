{
 "cells": [
  {
   "cell_type": "markdown",
   "id": "61ebe9fe",
   "metadata": {},
   "source": [
    "# VQQ Lab"
   ]
  },
  {
   "cell_type": "code",
   "execution_count": 1,
   "id": "848882d7",
   "metadata": {},
   "outputs": [],
   "source": [
    "# First let's import what we need for our lab first\n",
    "# uproot High energy physics python file format => https://masonproffitt.github.io/uproot-tutorial/aio.html\n",
    "import uproot\n",
    "import numpy as np\n",
    "import matplotlib.pyplot as plt\n",
    "import os,sys\n",
    "\n",
    "#plotting style for High Energy physics \n",
    "import lmfit as lm\n",
    "import mplhep as hep\n",
    "plt.style.use(hep.style.CMS)"
   ]
  },
  {
   "cell_type": "markdown",
   "id": "a9f6c307",
   "metadata": {},
   "source": [
    "### Loading the data"
   ]
  },
  {
   "cell_type": "markdown",
   "id": "de1ef2b3",
   "metadata": {},
   "source": [
    "Here is some codes to load the correct data sets!"
   ]
  },
  {
   "cell_type": "code",
   "execution_count": 2,
   "id": "8d5ac7c6",
   "metadata": {},
   "outputs": [],
   "source": [
    "# Now lets look at the data. Our data sample is the JetHT dataset. \n",
    "# What that means is the data passed triggers that have a jet in one of the triggers. (discuss below)\n",
    "data   = uproot.open(\"data/JetHT_s.root\")[\"Tree\"]\n",
    "\n",
    "# In addition to above we have Monte Carlo Simulation of many processes\n",
    "# Some of these process are well modelled in simulation and some of them are not\n",
    "#-------------------------------------------------------------------------------\n",
    "\n",
    "# Now we have our actual process qq=>W=>qq at 8TeV collision energy\n",
    "wqq    = uproot.open(\"data/WQQ_s.root\")[\"Tree\"]\n",
    "\n",
    "# Now we have our actual process qq=>Z=>qq at 8TeV collision energy\n",
    "zqq    = uproot.open(\"data/ZQQ_s.root\")[\"Tree\"] \n",
    "\n",
    "#Hint: You could check for files in the data directory by doing \"!ls data/\" in a cell.\n",
    "#The ZQQ file name is similar to WQQ\n",
    "\n",
    "# Unfortunately the samples I made above a long time ago are very small. \n",
    "# To train NNs and make nice plots we will use larger samples produced at a different collision energy\n",
    "# qq=>W=>qq at 13TeV collision energy\n",
    "wqq13  = uproot.open(\"data/skimh/WQQ_sh.root\")[\"Tree\"]\n",
    "\n",
    "# qq=>Z=>qq at 13TeV collision energy\n",
    "zqq13  = uproot.open(\"data/skimh/ZQQ_sh.root\")[\"Tree\"]\n",
    "\n",
    "# Now we have our worst modeled background this is also our main background. \n",
    "# This is is our di-jet quark and gluon background. \n",
    "# We just call these backgrounds QCD because they are produced with Quantum Chromo Dynamics. \n",
    "qcd    = uproot.open(\"data/QCD_s.root\")[\"Tree\"]\n",
    "\n",
    "# Now we have the Higgs boson sample (we might need this in the future)\n",
    "ggh    = uproot.open(\"data/ggH.root\")[\"Tree\"]\n",
    "\n",
    "# And top-quark pair production background. \n",
    "tt     = uproot.open(\"data/TT.root\")[\"Tree\"]\n",
    "\n",
    "# Finally we have the rarer double W, W+Z and Z+Z diboson samples where we have two bosons instead of one\n",
    "ww     = uproot.open(\"data/WW.root\")[\"Tree\"]\n",
    "wz     = uproot.open(\"data/WZ.root\")[\"Tree\"]\n",
    "zz     = uproot.open(\"data/ZZ.root\")[\"Tree\"]"
   ]
  },
  {
   "cell_type": "markdown",
   "id": "44ff29c9",
   "metadata": {},
   "source": [
    "## Simple helper functions"
   ]
  },
  {
   "cell_type": "markdown",
   "id": "7e932372",
   "metadata": {},
   "source": [
    "After loading the data, you are provided with some simple helper functions that have already been used in our introduction notebook. These are used for pre-selection (standard cuts that physicsists usually apply before making measurements) and computing the scaling factor of datasets. You can review the previous notebook for further explanations!"
   ]
  },
  {
   "cell_type": "code",
   "execution_count": 3,
   "id": "4399e556",
   "metadata": {},
   "outputs": [],
   "source": [
    "def selection(iData):\n",
    "    '''\n",
    "    Standard pre-selection\n",
    "    '''\n",
    "    #lets apply a trigger selection\n",
    "    trigger = (iData.arrays('trigger', library=\"np\")[\"trigger\"].flatten() > 0)\n",
    "\n",
    "    #Now lets require the jet pt to be above a threshold (400 TODO: ASK about units)\n",
    "    jetpt   = (iData.arrays('vjet0_pt', library=\"np\")[\"vjet0_pt\"].flatten() > 400)\n",
    "\n",
    "    #Lets apply both jetpt and trigger at the same time\n",
    "    #standard_trig = (iData.arrays('trigger', library=\"np\")[\"trigger\"].flatten() % 4 > 1) #lets require one of our standard triggers (jet pT > 370 )\n",
    "    allcuts = np.logical_and.reduce([trigger,jetpt])\n",
    "\n",
    "    return allcuts\n",
    "    \n",
    "def get_weights(iData,weights,sel):\n",
    "    \n",
    "    weight = weights[0]\n",
    "    \n",
    "    for i in range(1,len(weights)):\n",
    "        weight *= iData.arrays(weights[i],library=\"np\")[weights[i]][sel]\n",
    "        \n",
    "    return weight\n",
    "\n",
    "def integral(iData,iWeights):\n",
    "    '''\n",
    "    This computs the integral of weighted events \n",
    "    assuming a selection given by the function selection (see below)\n",
    "    '''\n",
    "    \n",
    "    #perform a selection on the data (\n",
    "    mask_sel=selection(iData)\n",
    "    \n",
    "    #now iterate over the weights not the weights are in the format of [number,variable name 1, variable name 2,...]\n",
    "    weight  =iWeights[0]\n",
    "    \n",
    "    for i0 in range(1,len(iWeights)):\n",
    "        weightarr = iData.arrays(iWeights[i0], library=\"np\")[iWeights[i0]][mask_sel].flatten()\n",
    "        \n",
    "        #multiply the weights\n",
    "        weight    = weight*weightarr\n",
    "    \n",
    "    #now take the integral and return it\n",
    "    return np.sum(weight)\n",
    "\n",
    "\n",
    "def scale(iData8TeV,iData13TeV,iWeights):\n",
    "    '''\n",
    "    This computes the integral of two selections for two datasets labelled 8TeV and 13TeV,\n",
    "    but really can be 1 and 2. Then it returns the ratio of the integrals\n",
    "    '''\n",
    "    \n",
    "    int_8TeV  = integral(iData8TeV,iWeights)\n",
    "    int_13TeV = integral(iData13TeV,iWeights)\n",
    "    \n",
    "    return int_8TeV/int_13TeV"
   ]
  },
  {
   "cell_type": "markdown",
   "id": "a0638d22",
   "metadata": {},
   "source": [
    "-----"
   ]
  },
  {
   "cell_type": "markdown",
   "id": "732283a6",
   "metadata": {},
   "source": [
    "# 1. Fit for W Peak\n",
    "\n",
    "Now, lets do the lab. <font color=\"blue\"> Your first challenge is to make a mass plot and perform fitting for W signal. </font>. A hint is that the plots should come out like this, where on the left we show the soft-drop mass/groomed mass ($m_{SD}$) distribution for different processes in the Monte Carlo simulation along with the real data. The plot on the right shows the fit: \n",
    "<img src=\"images/S50_WFit.png\" width='900'>"
   ]
  },
  {
   "cell_type": "markdown",
   "id": "8dab7606",
   "metadata": {},
   "source": [
    "First I will walk you through the fit for W, and then you will have the chance to do the Z fit for yourself:"
   ]
  },
  {
   "cell_type": "markdown",
   "id": "96209778",
   "metadata": {},
   "source": [
    "-----"
   ]
  },
  {
   "cell_type": "markdown",
   "id": "90c59885",
   "metadata": {},
   "source": [
    "## 1.1 W Mass Plot"
   ]
  },
  {
   "cell_type": "markdown",
   "id": "d16585d7",
   "metadata": {},
   "source": [
    "To make the mass plot and perform fitting, the most important function is our signal selection function, where in addition to the standard selections (such as trigger and transverse momentum selections) we need to perform other selections in order to increase the amount of events with W in our sample.\n",
    "\n",
    "Your first assignment is thus to complete the function below, notice that the standard pre-selection is already given to you. The specific cuts are performed according to this paper:\n",
    "\n",
    "https://arxiv.org/pdf/1603.00027.pdf\n",
    "\n",
    "Your task is to figure out how the two parameters: $\\rho$ and $\\tau_2/\\tau_1$ are defined by quoting the paper. And then make a selection based on these parameters for the $W$.\n",
    "\n",
    "A hint to determine the cut is to plot the distribution of the scores like this (plot taken from [this paper](https://arxiv.org/pdf/1410.4227.pdf) ):\n",
    "\n",
    "<img src=\"images/S50_Wt21Cut.png\" width='400'>\n",
    "\n",
    "Looking at the plot, how would you determine a cut to best select out the W signal?"
   ]
  },
  {
   "cell_type": "code",
   "execution_count": null,
   "id": "f2f7a7f3",
   "metadata": {},
   "outputs": [],
   "source": [
    "def selectionW(iData):\n",
    "    '''\n",
    "    This is the specific selection for selecting out events with W signal for our analysis\n",
    "    '''\n",
    "    \n",
    "    #Pre-selection citeria\n",
    "    trigger = (iData.arrays('trigger', library=\"np\")[\"trigger\"].flatten() >= 0)\n",
    "    jetpt   = (iData.arrays('vjet0_pt', library=\"np\")[\"vjet0_pt\"].flatten() >= 400)\n",
    "    \n",
    "    #Define the two parameters rho and tau2/tau1 according to the paper\n",
    "    #Hint: Use 'vjet0_msd0' for mass and 'vjet0_pt' for pt\n",
    "    rho = #### YOUR CODE HERE ####\n",
    "    \n",
    "    #Hint: tau2 and tau1 are already given in the data set as 'vjet0_t2' and 'vjet0_t1'. \n",
    "    #Computing their ratio is straight-forward.\n",
    "    t21 = #### YOUR CODE HERE ####\n",
    "    \n",
    "    #Now compute their DDT (Designing Decorrelated Taggers) score.\n",
    "    #0.065 is mostly a number that has been pre-selected,\n",
    "    #rho here is mostly a variable so that we could include mass\n",
    "    \n",
    "    t21ddt = t21 + .065*rho \n",
    "                            \n",
    "    #And then perform the cut\n",
    "    #Hint: You could determine the threshold of the cut by plotting the distribution of \n",
    "    #t21ddt scores for W and background and then determine a ball park threshold\n",
    "    #where you think the W signal would be best selected\n",
    "    #Or more simply you could look at the given plot and determine the appropriate threshold.\n",
    "    \n",
    "    t21cut   = t21ddt < #### YOUR CUT HERE #####\n",
    "    \n",
    "    allcuts = np.logical_and.reduce([trigger, jetpt, t21cut])\n",
    "    \n",
    "    return allcuts"
   ]
  },
  {
   "cell_type": "markdown",
   "id": "9b7f454b",
   "metadata": {},
   "source": [
    "### Solution"
   ]
  },
  {
   "cell_type": "code",
   "execution_count": null,
   "id": "4155cd13",
   "metadata": {},
   "outputs": [],
   "source": [
    "def selectionW(iData):\n",
    "    '''\n",
    "    This is the specific selection for selecting out events with W signal for our analysis\n",
    "    '''\n",
    "    \n",
    "    #Pre-selection citeria\n",
    "    trigger = (iData.arrays('trigger', library=\"np\")[\"trigger\"].flatten() >= 0)\n",
    "    jetpt   = (iData.arrays('vjet0_pt', library=\"np\")[\"vjet0_pt\"].flatten() >= 400)\n",
    "    \n",
    "    #Define the two parameters rho and tau2/tau1 according to the paper\n",
    "    #Hint: Use 'vjet0_msd0' for mass and 'vjet0_pt' for pt\n",
    "    rho = np.log(iData.arrays('vjet0_msd0',library=\"np\")[\"vjet0_msd0\"]**2/iData.arrays('vjet0_pt',library=\"np\")[\"vjet0_pt\"])\n",
    "    \n",
    "    #Hint: tau2 and tau1 are already given in the data set as 'vjet0_t2' and 'vjet0_t1'. \n",
    "    #Computing their ratio is straight-forward.\n",
    "    t21 = (iData.arrays('vjet0_t2', library=\"np\")[\"vjet0_t2\"]/\n",
    "           iData.arrays('vjet0_t1', library=\"np\")[\"vjet0_t1\"])\n",
    "    \n",
    "    #Now compute their DDT (Designing Decorrelated Taggers) score.\n",
    "    #0.065 is mostly a number that has been pre-selected,\n",
    "    #rho here is mostly a variable so that we could include mass\n",
    "    \n",
    "    t21ddt = t21 + .065*rho \n",
    "                            \n",
    "    #And then perform the cut\n",
    "    #Hint: You could determine the threshold of the cut by plotting  \n",
    "    #Or you could look at the given plot and determine the appropriate threshold.\n",
    "    \n",
    "    t21cut   = t21ddt < .4\n",
    "    \n",
    "    allcuts = np.logical_and.reduce([trigger, jetpt, t21cut])\n",
    "    \n",
    "    return allcuts"
   ]
  },
  {
   "cell_type": "markdown",
   "id": "fc0a2721",
   "metadata": {},
   "source": [
    "-----"
   ]
  },
  {
   "cell_type": "markdown",
   "id": "01985bf1",
   "metadata": {},
   "source": [
    "Great! now that we have our selection function, let's try to make the mass plot!\n",
    "\n",
    "Hint: This code assignment is straight forward so don't over think it, we just want to make sure you are following evrything."
   ]
  },
  {
   "cell_type": "code",
   "execution_count": null,
   "id": "ff9d8ec7",
   "metadata": {},
   "outputs": [],
   "source": [
    "#Lets Look at the mass\n",
    "weights = [1000*18300, \"puweight\", \"scale1fb\"]\n",
    "mrange = (45,200)  #range for mass histogram [GeV]\n",
    "bins=40            #bins for mass histogram\n",
    "density = True     #to plot the histograms as a density (integral=1)\n",
    "\n",
    "qcdsel      = selectionW(qcd)\n",
    "wsel        = selectionW(wqq13)\n",
    "zsel        = #### YOUR CODE HERE ####\n",
    "datasel     = selectionW(data)\n",
    "ttsel       = selectionW(tt)\n",
    "wwsel       = #### YOUR CODE HERE ####\n",
    "wzsel       = selectionW(wz)\n",
    "zzsel       = selectionW(zz)\n",
    "gghsel      = selectionW(ggh)\n",
    "\n",
    "\n",
    "wscale=scale(wqq,wqq13,weights)\n",
    "zscale=#### YOUR CODE HERE ####\n",
    "\n",
    "# Getting the masses of selected events\n",
    "dataW = data.arrays('vjet0_msd0', library=\"np\")[\"vjet0_msd0\"][datasel]\n",
    "qcdW = qcd.arrays('vjet0_msd0', library=\"np\")[\"vjet0_msd0\"][qcdsel]\n",
    "wW = wqq13.arrays('vjet0_msd0', library=\"np\")[\"vjet0_msd0\"][wsel]\n",
    "zW = #### YOUR CODE HERE ####\n",
    "zzW = #### YOUR CODE HERE ####\n",
    "wzW = #### YOUR CODE HERE ####\n",
    "wwW = #### YOUR CODE HERE ####\n",
    "ttW = #### YOUR CODE HERE ####\n",
    "gghW = #### YOUR CODE HERE ####\n",
    "\n",
    "#Define the weights for the histograms\n",
    "hist_weights = [get_weights(qcd,weights,qcdsel),\n",
    "                get_weights(wqq13,weights,wsel)*wscale,\n",
    "                #### YOUR CODE HERE ####,\n",
    "                get_weights(zz,weights,zzsel),\n",
    "                get_weights(wz,weights,wzsel),\n",
    "                get_weights(ww,weights,wwsel),\n",
    "                get_weights(tt,weights,ttsel),\n",
    "               ]\n",
    "\n",
    "#Hint: Provide a list of selected data\n",
    "plt.hist(#### YOUR CODE HERE ####, \n",
    "         color=[\"royalblue\",\"r\", \"orange\",\"g\", \"b\", \"purple\", \"cyan\",], \n",
    "         label=[\"QCD\", \"W\", \"Z\", \"ZZ\", \"WZ\", \"WW\", \"tt\",], \n",
    "         weights=hist_weights,\n",
    "         range=mrange, bins=50, alpha=.6, density=density,stacked=True)\n",
    "\n",
    "#Other configurations for the histogram\n",
    "counts, bins = np.histogram(dataW, bins=bins, range=mrange, density=density)\n",
    "yerr = np.sqrt(counts) / np.sqrt(len(dataW)*np.diff(bins))\n",
    "binCenters = (bins[1:]+bins[:-1])*.5\n",
    "plt.errorbar(binCenters, counts, yerr=yerr,fmt=\"o\",c=\"k\",label=\"data\")\n",
    "plt.legend()\n",
    "plt.xlabel(r\"Mass [GeV]\")\n",
    "plt.ylabel(\"Normalized Counts\")\n",
    "plt.show()"
   ]
  },
  {
   "cell_type": "markdown",
   "id": "cc922844",
   "metadata": {},
   "source": [
    "### Solution"
   ]
  },
  {
   "cell_type": "code",
   "execution_count": 17,
   "id": "5a5c5a3f",
   "metadata": {},
   "outputs": [
    {
     "name": "stderr",
     "output_type": "stream",
     "text": [
      "/uscms_data/d3/dhoang/miniconda3/envs/env_S50/lib/python3.7/site-packages/ipykernel_launcher.py:10: RuntimeWarning: divide by zero encountered in log\n",
      "  # Remove the CWD from sys.path while we load stuff.\n"
     ]
    },
    {
     "data": {
      "image/png": "[encoded data removed]",
      "text/plain": [
       "<Figure size 720x720 with 1 Axes>"
      ]
     },
     "metadata": {
      "needs_background": "light"
     },
     "output_type": "display_data"
    }
   ],
   "source": [
    "#Lets Look at the mass\n",
    "weights = [1000*18300, \"puweight\", \"scale1fb\"]\n",
    "mrange = (45,200)  #range for mass histogram [GeV]\n",
    "bins=40            #bins for mass histogram\n",
    "density = True     #to plot the histograms as a density (integral=1)\n",
    "\n",
    "qcdsel      = selectionW(qcd)\n",
    "wsel        = selectionW(wqq13)\n",
    "zsel        = selectionW(zqq13)\n",
    "datasel     = selectionW(data)\n",
    "ttsel       = selectionW(tt)\n",
    "wwsel       = selectionW(ww)\n",
    "wzsel       = selectionW(wz)\n",
    "zzsel       = selectionW(zz)\n",
    "gghsel      = selectionW(ggh)\n",
    "wscale=scale(wqq,wqq13,weights)\n",
    "zscale=scale(zqq,zqq13,weights)\n",
    "\n",
    "dataW = data.arrays('vjet0_msd0', library=\"np\")[\"vjet0_msd0\"][datasel]\n",
    "qcdW = qcd.arrays('vjet0_msd0', library=\"np\")[\"vjet0_msd0\"][qcdsel]\n",
    "wW = wqq13.arrays('vjet0_msd0', library=\"np\")[\"vjet0_msd0\"][wsel]\n",
    "zW = zqq13.arrays('vjet0_msd0', library=\"np\")[\"vjet0_msd0\"][zsel]\n",
    "zzW = zz.arrays('vjet0_msd0', library=\"np\")[\"vjet0_msd0\"][zzsel]\n",
    "wzW = wz.arrays('vjet0_msd0', library=\"np\")[\"vjet0_msd0\"][wzsel]\n",
    "wwW = ww.arrays('vjet0_msd0', library=\"np\")[\"vjet0_msd0\"][wwsel]\n",
    "ttW = tt.arrays('vjet0_msd0', library=\"np\")[\"vjet0_msd0\"][ttsel]\n",
    "gghW = ggh.arrays('vjet0_msd0', library=\"np\")[\"vjet0_msd0\"][gghsel]\n",
    "\n",
    "hist_weights = [get_weights(qcd,weights,qcdsel),\n",
    "                get_weights(wqq13,weights,wsel)*wscale,\n",
    "                get_weights(zqq13,weights,zsel)*zscale,\n",
    "                get_weights(zz,weights,zzsel),\n",
    "                get_weights(wz,weights,wzsel),\n",
    "                get_weights(ww,weights,wwsel),\n",
    "                get_weights(tt,weights,ttsel),\n",
    "               ]\n",
    "\n",
    "plt.hist([qcdW,wW, zW, zzW, wzW, wwW, ttW], \n",
    "         color=[\"royalblue\",\"r\", \"orange\",\"g\", \"b\", \"purple\", \"cyan\",], \n",
    "         label=[\"QCD\", \"W\", \"Z\", \"ZZ\", \"WZ\", \"WW\", \"tt\",], \n",
    "         weights=hist_weights,\n",
    "         range=mrange, bins=50, alpha=.6, density=density,stacked=True)\n",
    "\n",
    "counts, bins = np.histogram(dataW, bins=bins, range=mrange, density=density)\n",
    "yerr = np.sqrt(counts) / np.sqrt(len(dataW)*np.diff(bins))\n",
    "binCenters = (bins[1:]+bins[:-1])*.5\n",
    "plt.errorbar(binCenters, counts, yerr=yerr,fmt=\"o\",c=\"k\",label=\"data\")\n",
    "plt.legend()\n",
    "plt.xlabel(r\"Mass [GeV]\")\n",
    "plt.ylabel(\"Normalized Counts\")\n",
    "plt.show()"
   ]
  },
  {
   "cell_type": "markdown",
   "id": "aa87f538",
   "metadata": {},
   "source": [
    "-------"
   ]
  },
  {
   "cell_type": "markdown",
   "id": "3697f7a4",
   "metadata": {},
   "source": [
    "Remember to compare your mass plot with the plot given above to make sure it gives the correct distribution!"
   ]
  },
  {
   "cell_type": "markdown",
   "id": "9dfb161d",
   "metadata": {},
   "source": [
    "## 1.2 W Peak Fit"
   ]
  },
  {
   "cell_type": "markdown",
   "id": "731fc39d",
   "metadata": {},
   "source": [
    "In this section you will perform the fit on W signal. It involves a few steps:\n",
    "    \n",
    "1. First you need to define a fit model of your own. In this case we would use a gaussian defined on top of a 6th order polynomial. You could see more on how the order of the polynomials are determined here: https://en.wikipedia.org/wiki/Chow_test. The concepts were also covered in Lecture 8-9 if you want to review it. Later on you will have the chance to determine the order of the polynomial for the Z fit. You might see that we might not necessarily need a 6th order polynomial for the Z fit. The main reason for this is that we have much more data in W sample than the Z sample."
   ]
  },
  {
   "cell_type": "code",
   "execution_count": 6,
   "id": "790c960e",
   "metadata": {},
   "outputs": [],
   "source": [
    "def polgaus2(x, p0, p1, p2, p3, p4, p5, a, mu, sigma):\n",
    "    '''\n",
    "    Our model is a gaussian on top of 6th order polynomial.\n",
    "    '''\n",
    "    \n",
    "    #Define the polynomial\n",
    "    pols=[p0, p1, p2, p3, p4, p5]\n",
    "    poly  = np.polyval(pols,x)\n",
    "    \n",
    "    #Define the gaussian\n",
    "    gauss = #### YOUR CODE HERE ####\n",
    "    \n",
    "    #Stick them together\n",
    "    y =  poly + a*gauss\n",
    "    \n",
    "    return y"
   ]
  },
  {
   "cell_type": "markdown",
   "id": "ff3d341e",
   "metadata": {},
   "source": [
    "### Solution"
   ]
  },
  {
   "cell_type": "code",
   "execution_count": 6,
   "id": "df408432",
   "metadata": {},
   "outputs": [],
   "source": [
    "def polgaus2(x, p0, p1, p2, p3, p4, p5, a, mu, sigma):\n",
    "    '''\n",
    "    Our model is a gaussian on top of 6th order polynomial.\n",
    "    '''\n",
    "    \n",
    "    #Define the polynomial\n",
    "    pols=[p0, p1, p2, p3, p4, p5]\n",
    "    poly  = np.polyval(pols,x)\n",
    "    \n",
    "    #Define the gaussian\n",
    "    gauss = np.exp(-((x-mu)**2.)/(2.*sigma**2))\n",
    "    \n",
    "    #Stick them together\n",
    "    y =  poly + a*gauss\n",
    "    \n",
    "    return y"
   ]
  },
  {
   "cell_type": "markdown",
   "id": "04e67414",
   "metadata": {},
   "source": [
    "------"
   ]
  },
  {
   "cell_type": "markdown",
   "id": "286c4bb0",
   "metadata": {},
   "source": [
    "2. After defining your model, you need to get the data histogram and perform the fit, here I give you an example on how to perform the W fit, you will have the chance to adapt this for your Z fit later on."
   ]
  },
  {
   "cell_type": "code",
   "execution_count": 7,
   "id": "b2360107",
   "metadata": {
    "collapsed": true
   },
   "outputs": [
    {
     "name": "stdout",
     "output_type": "stream",
     "text": [
      "[[Model]]\n",
      "    Model(polgaus2)\n",
      "[[Fit Statistics]]\n",
      "    # fitting method   = leastsq\n",
      "    # function evals   = 92\n",
      "    # data points      = 28\n",
      "    # variables        = 9\n",
      "    chi-square         = 30.0641333\n",
      "    reduced chi-square = 1.58232281\n",
      "    Akaike info crit   = 19.9915943\n",
      "    Bayesian info crit = 31.9814349\n",
      "[[Variables]]\n",
      "    p0:    -2.5070e-12 +/- 6.3705e-13 (25.41%) (init = -3.343897e-12)\n",
      "    p1:     1.5407e-09 +/- 4.3800e-10 (28.43%) (init = 2.133232e-09)\n",
      "    p2:    -3.5097e-07 +/- 1.1684e-07 (33.29%) (init = -5.133544e-07)\n",
      "    p3:     3.6461e-05 +/- 1.4978e-05 (41.08%) (init = 5.776477e-05)\n",
      "    p4:    -0.00179843 +/- 9.0795e-04 (50.49%) (init = -0.003111808)\n",
      "    p5:     0.04605792 +/- 0.02014316 (43.73%) (init = 0.07536875)\n",
      "    a:      0.00422418 +/- 6.7111e-04 (15.89%) (init = 0.005048661)\n",
      "    mu:     82.6970568 +/- 1.25927413 (1.52%) (init = 80)\n",
      "    sigma:  9.70737799 +/- 1.71554412 (17.67%) (init = 11.70122)\n",
      "[[Correlations]] (unreported correlations are < 0.100)\n",
      "    C(p4, p5)    = -0.998\n",
      "    C(p0, p1)    = -0.998\n",
      "    C(p1, p2)    = -0.998\n",
      "    C(p3, p4)    = -0.998\n",
      "    C(p2, p3)    = -0.998\n",
      "    C(p3, p5)    = 0.992\n",
      "    C(p0, p2)    = 0.991\n",
      "    C(p1, p3)    = 0.990\n",
      "    C(p2, p4)    = 0.990\n",
      "    C(p2, p5)    = -0.981\n",
      "    C(p0, p3)    = -0.980\n",
      "    C(p1, p4)    = -0.979\n",
      "    C(p1, p5)    = 0.966\n",
      "    C(p0, p4)    = 0.964\n",
      "    C(p0, p5)    = -0.948\n",
      "    C(p5, a)     = 0.731\n",
      "    C(p4, a)     = -0.716\n",
      "    C(p3, a)     = 0.689\n",
      "    C(p5, sigma) = 0.678\n",
      "    C(p4, sigma) = -0.666\n",
      "    C(p2, a)     = -0.658\n",
      "    C(p3, sigma) = 0.641\n",
      "    C(p1, a)     = 0.625\n",
      "    C(p2, sigma) = -0.611\n",
      "    C(p2, mu)    = 0.598\n",
      "    C(p3, mu)    = -0.596\n",
      "    C(p1, mu)    = -0.596\n",
      "    C(p0, a)     = -0.593\n",
      "    C(p0, mu)    = 0.590\n",
      "    C(p4, mu)    = 0.589\n",
      "    C(p1, sigma) = 0.579\n",
      "    C(p5, mu)    = -0.575\n",
      "    C(p0, sigma) = -0.547\n",
      "    C(a, sigma)  = 0.505\n",
      "    C(mu, sigma) = -0.447\n",
      "    C(a, mu)     = -0.416\n"
     ]
    },
    {
     "data": {
      "text/plain": [
       "30.064133346555906"
      ]
     },
     "execution_count": 7,
     "metadata": {},
     "output_type": "execute_result"
    },
    {
     "data": {
      "text/plain": [
       "<Figure size 720x720 with 0 Axes>"
      ]
     },
     "metadata": {},
     "output_type": "display_data"
    },
    {
     "data": {
      "image/png": "[encoded data removed]",
      "text/plain": [
       "<Figure size 720x720 with 2 Axes>"
      ]
     },
     "metadata": {
      "needs_background": "light"
     },
     "output_type": "display_data"
    }
   ],
   "source": [
    "# Now we get the data histogram so we can fit it\n",
    "bins = 28\n",
    "counts, bins = np.histogram(dataW,\n",
    "                            bins=bins,\n",
    "                            range=mrange,\n",
    "                            density=True)\n",
    "\n",
    "yvar = counts/len(dataW)/np.diff(bins)\n",
    "w = 1/np.sqrt(yvar)\n",
    "binCenters = (bins[1:]+bins[:-1])*.5\n",
    "x,y = binCenters.astype(\"float32\"), counts.astype(\"float32\")\n",
    "\n",
    "#Perform the fit \n",
    "model = lm.Model(polgaus2,)\n",
    "p = model.make_params(p0=-3.3438965886446737e-12,\n",
    "                      p1=2.1332319456288657e-09,\n",
    "                      p2=-5.133544460851947e-07, \n",
    "                      p3=5.776476610767709e-05,\n",
    "                      p4=-0.0031118077091850833,\n",
    "                      p5=0.07536875031296641, \n",
    "                      a=0.005048661046674717,\n",
    "                      mu=80,\n",
    "                      sigma=11.701217273469597,)\n",
    "\n",
    "result_W = model.fit(data=y,\n",
    "                   params=p,\n",
    "                   x=x,\n",
    "                   weights=w,\n",
    "                   method=\"leastsq\")\n",
    "\n",
    "#Plot the result\n",
    "plt.figure()\n",
    "result_W.plot()\n",
    "plt.xlabel(\"mass[GeV]\",position=(0.92,0.1))\n",
    "plt.ylabel(\"Entries/bin\",position=(0.1,0.84))\n",
    "\n",
    "#Print the fit summary\n",
    "print(result_W.fit_report())\n",
    "result_W.chisqr"
   ]
  },
  {
   "cell_type": "markdown",
   "id": "4176127a",
   "metadata": {},
   "source": [
    "Remember to compare your fit plot! Now we need to extract the W mass and the error in the measurement!"
   ]
  },
  {
   "cell_type": "code",
   "execution_count": null,
   "id": "e84f65b7",
   "metadata": {},
   "outputs": [],
   "source": [
    "mW = #### YOUR CODE HERE ####\n",
    "mWerr = #### YOUR CODE HERE ####"
   ]
  },
  {
   "cell_type": "markdown",
   "id": "f806ea7e",
   "metadata": {},
   "source": [
    "You should obtain the following results:\n",
    "    \n",
    "- $m_W \\approx 82.697$ GeV\n",
    "- $m_W (error) \\approx ~1.259$ GeV"
   ]
  },
  {
   "cell_type": "markdown",
   "id": "911409e8",
   "metadata": {},
   "source": [
    "### Solution"
   ]
  },
  {
   "cell_type": "code",
   "execution_count": 8,
   "id": "778ae1c7",
   "metadata": {},
   "outputs": [],
   "source": [
    "mW = result_W.params[\"mu\"].value\n",
    "mWerr = result_W.params[\"mu\"].stderr"
   ]
  },
  {
   "cell_type": "markdown",
   "id": "a4d71a68",
   "metadata": {},
   "source": [
    "----"
   ]
  },
  {
   "cell_type": "markdown",
   "id": "7411614f",
   "metadata": {},
   "source": [
    "# 2. Fit for Z peak"
   ]
  },
  {
   "cell_type": "markdown",
   "id": "e4e9126a",
   "metadata": {},
   "source": [
    "Now that you have done the W fit, the next challenge is to see whether you can also perform the Z fit! They are very similar in concepts. However, the selection for Z requires a special cut: **the deep double-b tagging score (ddb).** This is because unlike the W, Z can decays into two b quarks and hence a cut on this score would remove many W signals. \n",
    "\n",
    "The codes to perform the fit should be very similar to what we have shown you in the last section! Your plots should come out like this in the end:\n",
    "\n",
    "<img src=\"images/S50_ZFit.png\" width='900'>"
   ]
  },
  {
   "cell_type": "markdown",
   "id": "e0be3a89",
   "metadata": {},
   "source": [
    "First, let's try to re-write the selection function. Remember that you now need to add the deep double b score of the jet and place a cut on it. The inividual b score in each subjet is already given in the `vjet0_sj1_csv` and `vjet0_sj2_csv` variable, how would you compute the b score of the whole jet?\n",
    "\n",
    "Another hint for placing the cut is this following table: \n",
    "\n",
    "<img src=\"images/S50_ZBtagCut.png\" width='500'>\n",
    "\n",
    "You could just ignore the labelling for the most part, the main point here is that there are three \"operating\" or \"working\" points: tight, medium, loose. Each according to specific cuts on the **individual** subjet b score. For example, a mistag rate of 0.1 would require the b score to be more than 0.9. The tight working point is also what is generally used. Using this information could you pick an appropriate threshold for the whole jet?"
   ]
  },
  {
   "cell_type": "code",
   "execution_count": 1,
   "id": "243a4959",
   "metadata": {},
   "outputs": [],
   "source": [
    "# Let's define a selection that will keep Z jets and remove background.\n",
    "def selectionZ(iData):\n",
    "    \n",
    "        #Standard preselection\n",
    "        trigger = (iData.arrays('trigger', library=\"np\")[\"trigger\"].flatten() >= 0)\n",
    "        \n",
    "        #Now lets require the jet pt to be above a threshold\n",
    "        jetpt   = (iData.arrays('vjet0_pt', library=\"np\")[\"vjet0_pt\"].flatten() >= 400)\n",
    "        \n",
    "        # Following the same procedure as https://arxiv.org/pdf/1603.00027.pdf\n",
    "        # we select 2 progned jets (since W and Z primarily decay to 2 quarks)\n",
    "        # we correct t21 to minimize the dependance on m and pt\n",
    "        rho = #### YOUR CODE HERE ####\n",
    "        t21 = #### YOUR CODE HERE ####\n",
    "        \n",
    "        t21ddt = t21+.05*rho\n",
    "        t21cut   = t21ddt < .62\n",
    "        \n",
    "        # this cut keeps jets with subjet 1 and subjet 2 coming from a secondary vertex\n",
    "        # i.e. the subjets originate from a displaced particle (namely a b quark)\n",
    "        # Unlike W bosons, the Z can decay into 2 b quarks which is why this selection removes \n",
    "        # many W jets.\n",
    "        \n",
    "        ddb= #### YOUR CODE HERE ####\n",
    "        ddbcut = ddb >= #### YOUR CUT HERE ####\n",
    "        \n",
    "        allcuts = np.logical_and.reduce([trigger,jetpt, t21cut, ddbcut])\n",
    "        \n",
    "        return allcuts"
   ]
  },
  {
   "cell_type": "markdown",
   "id": "1d40f551",
   "metadata": {},
   "source": [
    "### Solution"
   ]
  },
  {
   "cell_type": "code",
   "execution_count": 1,
   "id": "dac80e72",
   "metadata": {},
   "outputs": [],
   "source": [
    "# Let's define a selection that will keep Z jets and remove background.\n",
    "def selectionZ(iData):\n",
    "    \n",
    "        #Standard preselection\n",
    "        trigger = (iData.arrays('trigger', library=\"np\")[\"trigger\"].flatten() >= 0)\n",
    "        \n",
    "        #Now lets require the jet pt to be above a threshold\n",
    "        jetpt   = (iData.arrays('vjet0_pt', library=\"np\")[\"vjet0_pt\"].flatten() >= 400)\n",
    "        \n",
    "        # Following the same procedure as https://arxiv.org/pdf/1603.00027.pdf\n",
    "        # we select 2 progned jets (since W and Z primarily decay to 2 quarks)\n",
    "        # we correct t21 to minimize the dependance on m and pt\n",
    "        rho = np.log(iData.arrays('vjet0_msd0',library=\"np\")[\"vjet0_msd0\"]**2/iData.arrays('vjet0_pt',library=\"np\")[\"vjet0_pt\"])\n",
    "        t21 = (iData.arrays('vjet0_t2', library=\"np\")[\"vjet0_t2\"]/\n",
    "               iData.arrays('vjet0_t1', library=\"np\")[\"vjet0_t1\"])\n",
    "        t21ddt = t21+.05*rho\n",
    "        t21cut   = t21ddt < .62\n",
    "        \n",
    "        # this cut keeps jets with subjet 1 and subjet 2 coming from a secondary vertex\n",
    "        # i.e. the subjets originate from a displaced particle (namely a b quark)\n",
    "        # Unlike W bosons, the Z can decay into 2 b quarks which is why this selection removes \n",
    "        # many W jets.\n",
    "        \n",
    "        ddb=iData.arrays(\"vjet0_sj1_csv\", library=\"np\")[\"vjet0_sj1_csv\"]+iData.arrays(\"vjet0_sj2_csv\", library=\"np\")[\"vjet0_sj2_csv\"]\n",
    "        ddbcut = ddb >= 1.85\n",
    "        \n",
    "        allcuts = np.logical_and.reduce([trigger,jetpt, t21cut, ddbcut])\n",
    "        \n",
    "        return allcuts"
   ]
  },
  {
   "cell_type": "markdown",
   "id": "be92e9f5",
   "metadata": {},
   "source": [
    "Similar to the W, let's try to make the mass plot first to see if we get the correct mass plot:"
   ]
  },
  {
   "cell_type": "markdown",
   "id": "83a0daea",
   "metadata": {},
   "source": [
    "## 2.1 Z mass plot"
   ]
  },
  {
   "cell_type": "markdown",
   "id": "577c996a",
   "metadata": {},
   "source": [
    "We can basically just reused what we had in the last section"
   ]
  },
  {
   "cell_type": "code",
   "execution_count": 10,
   "id": "a75b1920",
   "metadata": {},
   "outputs": [
    {
     "name": "stderr",
     "output_type": "stream",
     "text": [
      "/uscms_data/d3/dhoang/miniconda3/envs/env_S50/lib/python3.7/site-packages/ipykernel_launcher.py:13: RuntimeWarning: divide by zero encountered in log\n",
      "  del sys.path[0]\n"
     ]
    },
    {
     "data": {
      "image/png": "[encoded data removed]",
      "text/plain": [
       "<Figure size 720x720 with 1 Axes>"
      ]
     },
     "metadata": {
      "needs_background": "light"
     },
     "output_type": "display_data"
    }
   ],
   "source": [
    "# Some default parameters\n",
    "weights=[1000*18300,\"puweight\",\"scale1fb\"]\n",
    "mrange = (50,200) #range for mass histogram [GeV]\n",
    "bins=50           #bins for mass histogram\n",
    "density = True    #to plot the histograms as a density (integral=1)\n",
    "\n",
    "# Selecting data and MC \n",
    "qcdsel      = selectionZ(qcd)\n",
    "wsel        = selectionZ(wqq13)\n",
    "zsel        = selectionZ(zqq13)\n",
    "datasel     = selectionZ(data)\n",
    "ttsel       = selectionZ(tt)\n",
    "wwsel       = selectionZ(ww)\n",
    "wzsel       = selectionZ(wz)\n",
    "zzsel       = selectionZ(zz)\n",
    "gghsel      = selectionZ(ggh)\n",
    "\n",
    "wscale=scale(wqq,wqq13,weights)\n",
    "zscale=scale(zqq,zqq13,weights)\n",
    "\n",
    "# Getting the masses of selected events\n",
    "datat21 = data.arrays('vjet0_msd0', library=\"np\")[\"vjet0_msd0\"][datasel]\n",
    "qcdt21 = qcd.arrays('vjet0_msd0', library=\"np\")[\"vjet0_msd0\"][qcdsel]\n",
    "wt21 = wqq13.arrays('vjet0_msd0', library=\"np\")[\"vjet0_msd0\"][wsel]\n",
    "zt21 = zqq13.arrays('vjet0_msd0', library=\"np\")[\"vjet0_msd0\"][zsel]\n",
    "zzt21 = zz.arrays('vjet0_msd0', library=\"np\")[\"vjet0_msd0\"][zzsel]\n",
    "wzt21 = wz.arrays('vjet0_msd0', library=\"np\")[\"vjet0_msd0\"][wzsel]\n",
    "wwt21 = ww.arrays('vjet0_msd0', library=\"np\")[\"vjet0_msd0\"][wwsel]\n",
    "ttt21 = tt.arrays('vjet0_msd0', library=\"np\")[\"vjet0_msd0\"][ttsel]\n",
    "gght21 = ggh.arrays('vjet0_msd0', library=\"np\")[\"vjet0_msd0\"][gghsel]\n",
    "\n",
    "# Proper weights for each histogram\n",
    "hist_weights = [get_weights(qcd,weights,qcdsel),\n",
    "                get_weights(wqq13,weights,wsel)*wscale,\n",
    "                get_weights(zqq13,weights,zsel)*zscale,\n",
    "                get_weights(zz,weights,zzsel),\n",
    "                get_weights(wz,weights,wzsel),\n",
    "                get_weights(ww,weights,wwsel),\n",
    "                get_weights(tt,weights,ttsel),\n",
    "               ]\n",
    "\n",
    "# Plot stacked histograms\n",
    "plt.hist([qcdt21,wt21, zt21, zzt21, wzt21, wwt21, ttt21], \n",
    "         color=[\"royalblue\",\"r\", \"orange\",\"g\", \"b\", \"purple\", \"cyan\"], \n",
    "         label=[\"QCD\", \"W\", \"Z\", \"ZZ\", \"WZ\", \"WW\", \"tt\"], \n",
    "         weights=hist_weights,\n",
    "         range=mrange, bins=50, alpha=.6, density=density,stacked=True)\n",
    "counts, bins = np.histogram(datat21,bins=bins,range=mrange,density=density)\n",
    "\n",
    "# Getting the proper err requires normalizing since we are using a density not the actual count\n",
    "yerr = np.sqrt(counts) / np.sqrt(len(datat21)*(np.diff(bins))) \n",
    "binCenters = (bins[1:]+bins[:-1])*.5\n",
    "plt.errorbar(binCenters, counts, yerr=yerr,fmt=\"o\",c=\"k\",label=\"data\")\n",
    "plt.legend()\n",
    "plt.xlabel(r\"Mass [GeV]\")\n",
    "plt.ylabel(\"Normalized Counts\")\n",
    "plt.show()"
   ]
  },
  {
   "cell_type": "markdown",
   "id": "5ee6274a",
   "metadata": {},
   "source": [
    "Make sure to compare your mass plot with the plot given above!"
   ]
  },
  {
   "cell_type": "markdown",
   "id": "d53fa152",
   "metadata": {},
   "source": [
    "## 2.1 Fit for Z peak"
   ]
  },
  {
   "cell_type": "markdown",
   "id": "a7059160",
   "metadata": {},
   "source": [
    "Now, adapting the codes provided for you in the W section, perform a fit to the Z peak and extract its mass! The concept is similar to our previous W fit, but this time I would let you explore what fit function would be appropriate in this case."
   ]
  },
  {
   "cell_type": "code",
   "execution_count": null,
   "id": "a9bfd881",
   "metadata": {},
   "outputs": [],
   "source": [
    "def polgaus():\n",
    "    '''\n",
    "    Gaussian on 5th order polynomials!\n",
    "    '''\n",
    "    \n",
    "    \n",
    "    return y"
   ]
  },
  {
   "cell_type": "markdown",
   "id": "3596152e",
   "metadata": {},
   "source": [
    "### Solution"
   ]
  },
  {
   "cell_type": "code",
   "execution_count": 11,
   "id": "fb8d1bd1",
   "metadata": {},
   "outputs": [],
   "source": [
    "def polgaus(x, p0, p1, p2, p3, p4, a, mu, sigma):\n",
    "    '''\n",
    "    Gaussian on 5th order polynomials!\n",
    "    '''\n",
    "    pols=[p0, p1, p2, p3, p4]\n",
    "    poly  = np.polyval(pols,x)\n",
    "    gauss = np.exp(-((x-mu)**2.)/(2.*sigma**2))\n",
    "    y =  poly + a*gauss\n",
    "    \n",
    "    return y"
   ]
  },
  {
   "cell_type": "markdown",
   "id": "477bc9de",
   "metadata": {},
   "source": [
    "----"
   ]
  },
  {
   "cell_type": "markdown",
   "id": "f45973f3",
   "metadata": {},
   "source": [
    "Then, get the data histogram and perform the fit"
   ]
  },
  {
   "cell_type": "code",
   "execution_count": null,
   "id": "b2de35c8",
   "metadata": {},
   "outputs": [],
   "source": [
    "# Now we get the data histogram so we can fit it\n",
    "counts, bins = np.histogram(#### YOUR CODE HERE ####\n",
    "                            bins=40,\n",
    "                            range=mrange,\n",
    "                            density=True)\n",
    "\n",
    "yvar = #### YOUR CODE HERE ####\n",
    "w = #### YOUR CODE HERE ####\n",
    "binCenters = #### YOUR CODE HERE ####\n",
    "x,y = #### YOUR CODE HERE ####"
   ]
  },
  {
   "cell_type": "markdown",
   "id": "c8072418",
   "metadata": {},
   "source": [
    "### Solution"
   ]
  },
  {
   "cell_type": "code",
   "execution_count": 12,
   "id": "85c9b839",
   "metadata": {},
   "outputs": [],
   "source": [
    "# Now we get the data histogram so we can fit it\n",
    "counts, bins = np.histogram(datat21,\n",
    "                            bins=40,\n",
    "                            range=mrange,\n",
    "                            density=True)\n",
    "\n",
    "yvar = counts/len(datat21)/np.diff(bins) \n",
    "w = 1/np.sqrt(yvar)\n",
    "binCenters = (bins[1:]+bins[:-1])*.5\n",
    "x,y = binCenters.astype(\"float32\"), counts.astype(\"float32\")"
   ]
  },
  {
   "cell_type": "markdown",
   "id": "3ff5fd52",
   "metadata": {},
   "source": [
    "-------"
   ]
  },
  {
   "cell_type": "code",
   "execution_count": null,
   "id": "58273e8f",
   "metadata": {},
   "outputs": [],
   "source": [
    "#Perform the fit\n",
    "model = lm.Model(polgaus)\n",
    "p = model.make_params(p0=-2.9898e-09,\n",
    "                      p1=2.0335e-06,\n",
    "                      p2=-4.6726e-04,\n",
    "                      p3=0.03619398,\n",
    "                      p4=-.01,\n",
    "                      p5=.01,\n",
    "                      a=1,\n",
    "                      b=-0.00188134,\n",
    "                      lambd=1,\n",
    "                      mu=92,\n",
    "                      sigma=2.5)\n",
    "\n",
    "\n",
    "result_Z = #### YOUR CODE HERE ####\n",
    "\n",
    "#Plottting\n",
    "plt.figure()\n",
    "result_Z.plot()\n",
    "plt.xlabel(\"mass[GeV]\", position=(0.92,0.1))\n",
    "plt.ylabel(\"Entries/bin\", position=(0.1,0.84))\n",
    "\n",
    "#We could also check out all the fit parameters\n",
    "print(result_Z.fit_report())"
   ]
  },
  {
   "cell_type": "markdown",
   "id": "cd46685c",
   "metadata": {},
   "source": [
    "### Solution"
   ]
  },
  {
   "cell_type": "code",
   "execution_count": 13,
   "id": "691da49b",
   "metadata": {},
   "outputs": [
    {
     "name": "stdout",
     "output_type": "stream",
     "text": [
      "[[Model]]\n",
      "    Model(polgaus)\n",
      "[[Fit Statistics]]\n",
      "    # fitting method   = leastsq\n",
      "    # function evals   = 100\n",
      "    # data points      = 40\n",
      "    # variables        = 8\n",
      "    chi-square         = 43.2866042\n",
      "    reduced chi-square = 1.35270638\n",
      "    Akaike info crit   = 19.1585504\n",
      "    Bayesian info crit = 32.6695860\n",
      "[[Variables]]\n",
      "    p0:     7.5589e-11 +/- 3.2204e-11 (42.60%) (init = -2.9898e-09)\n",
      "    p1:    -4.9824e-08 +/- 1.7745e-08 (35.62%) (init = 2.0335e-06)\n",
      "    p2:     1.2717e-05 +/- 3.5263e-06 (27.73%) (init = -0.00046726)\n",
      "    p3:    -0.00153228 +/- 2.9628e-04 (19.34%) (init = 0.03619398)\n",
      "    p4:     0.07555856 +/- 0.00873846 (11.57%) (init = -0.01)\n",
      "    a:      0.00294296 +/- 8.6600e-04 (29.43%) (init = 1)\n",
      "    mu:     91.3761861 +/- 1.07883553 (1.18%) (init = 92)\n",
      "    sigma:  3.40427359 +/- 1.17352988 (34.47%) (init = 2.5)\n",
      "[[Correlations]] (unreported correlations are < 0.100)\n",
      "    C(p0, p1)    = -0.998\n",
      "    C(p1, p2)    = -0.997\n",
      "    C(p2, p3)    = -0.997\n",
      "    C(p3, p4)    = -0.994\n",
      "    C(p0, p2)    = 0.991\n",
      "    C(p1, p3)    = 0.988\n",
      "    C(p2, p4)    = 0.983\n",
      "    C(p0, p3)    = -0.977\n",
      "    C(p1, p4)    = -0.968\n",
      "    C(p0, p4)    = 0.952\n",
      "    C(a, sigma)  = -0.416\n",
      "    C(p3, sigma) = -0.310\n",
      "    C(p2, sigma) = 0.310\n",
      "    C(p1, sigma) = -0.304\n",
      "    C(p4, sigma) = 0.297\n",
      "    C(p0, sigma) = 0.296\n",
      "    C(p3, a)     = -0.182\n",
      "    C(p2, a)     = 0.181\n",
      "    C(p1, a)     = -0.178\n",
      "    C(p4, a)     = 0.175\n",
      "    C(p0, a)     = 0.174\n"
     ]
    },
    {
     "data": {
      "text/plain": [
       "<Figure size 720x720 with 0 Axes>"
      ]
     },
     "metadata": {},
     "output_type": "display_data"
    },
    {
     "data": {
      "image/png": "[encoded data removed]",
      "text/plain": [
       "<Figure size 720x720 with 2 Axes>"
      ]
     },
     "metadata": {
      "needs_background": "light"
     },
     "output_type": "display_data"
    }
   ],
   "source": [
    "model = lm.Model(polgaus)\n",
    "p = model.make_params(p0=-2.9898e-09,\n",
    "                      p1=2.0335e-06,\n",
    "                      p2=-4.6726e-04,\n",
    "                      p3=0.03619398,\n",
    "                      p4=-.01,p5=.01,\n",
    "                      a=1,\n",
    "                      b=-0.00188134,\n",
    "                      lambd=1,\n",
    "                      mu=92,\n",
    "                      sigma=2.5)\n",
    "\n",
    "\n",
    "result_Z = model.fit(data=y, params=p, x=x, weights=w)\n",
    "\n",
    "#Plottting\n",
    "plt.figure()\n",
    "result_Z.plot()\n",
    "plt.xlabel(\"mass[GeV]\",position=(0.92,0.1))\n",
    "plt.ylabel(\"Entries/bin\",position=(0.1,0.84))\n",
    "\n",
    "#We could also check out all the fit parameters\n",
    "print(result_Z.fit_report())"
   ]
  },
  {
   "cell_type": "markdown",
   "id": "2a2c09fa",
   "metadata": {},
   "source": [
    "------"
   ]
  },
  {
   "cell_type": "markdown",
   "id": "ec220281",
   "metadata": {},
   "source": [
    "After the fit we can extract the Z mass and the error in our measurement"
   ]
  },
  {
   "cell_type": "code",
   "execution_count": null,
   "id": "9c17b107",
   "metadata": {},
   "outputs": [],
   "source": [
    "mZ = #### YOUR CODE HERE ####\n",
    "mZerr = #### YOUR CODE HERE ####"
   ]
  },
  {
   "cell_type": "markdown",
   "id": "0f6f5c92",
   "metadata": {},
   "source": [
    "You should obtain the following results:\n",
    "    \n",
    "- $m_Z \\approx 91.373$ GeV\n",
    "- $m_Z (error) \\approx ~1.348$ GeV"
   ]
  },
  {
   "cell_type": "markdown",
   "id": "c57310a8",
   "metadata": {},
   "source": [
    "### Solution"
   ]
  },
  {
   "cell_type": "code",
   "execution_count": 14,
   "id": "4fd13e7f",
   "metadata": {},
   "outputs": [],
   "source": [
    "mZ = result_Z.params[\"mu\"].value\n",
    "mZerr = result_Z.params[\"mu\"].stderr"
   ]
  },
  {
   "cell_type": "markdown",
   "id": "891e9ec0",
   "metadata": {},
   "source": [
    "-----"
   ]
  },
  {
   "cell_type": "markdown",
   "id": "3e1a8f8c",
   "metadata": {},
   "source": [
    "# 3. Weak mixing angle"
   ]
  },
  {
   "cell_type": "markdown",
   "id": "912ae39a",
   "metadata": {},
   "source": [
    "If you have both W and Z boson, you can measure a fundamental parameter of the standard model. The Weak mixing angle, sometimes referred to as the Weinberg angle. \n",
    "\n",
    "<font color=\"blue\"> From your measurement of the W and Z boson mass come up with a measurement of the W and Z boson mixing angle.  </font>\n",
    "\n",
    "we have that $\\sin^2\\theta_w = 1 - (\\frac{m_W}{m_Z})^2$ which was measured to be about 0.231. Using the masses we measured and propagating the error gives "
   ]
  },
  {
   "cell_type": "code",
   "execution_count": null,
   "id": "86da2d5c",
   "metadata": {},
   "outputs": [],
   "source": [
    "sin2theta = 1 - (mW/mZ)**2\n",
    "sin2theta_err = #### YOUR CODE HERE ####\n",
    "\n",
    "print(f\"sin^2(θ) = {sin2theta:.3f} +\\- {sin2theta_err:.3f}\")"
   ]
  },
  {
   "cell_type": "markdown",
   "id": "1c10751e",
   "metadata": {},
   "source": [
    "Check your answer against the correct answer:\n",
    "\n",
    "$$Sin^2(\\theta) = 0.181 \\pm 0.035$$"
   ]
  },
  {
   "cell_type": "markdown",
   "id": "f50f5279",
   "metadata": {},
   "source": [
    "### Solution"
   ]
  },
  {
   "cell_type": "code",
   "execution_count": 15,
   "id": "e0754d34",
   "metadata": {},
   "outputs": [
    {
     "name": "stdout",
     "output_type": "stream",
     "text": [
      "sin^2(θ) = 0.181 +\\- 0.032\n"
     ]
    }
   ],
   "source": [
    "sin2theta = 1 - (mW/mZ)**2\n",
    "sin2theta_err = np.sqrt((2*mW*mWerr/mZ**2)**2 + (2*mW**2*mZerr/mZ**3)**2)\n",
    "\n",
    "print(f\"sin^2(θ) = {sin2theta:.3f} +\\- {sin2theta_err:.3f}\")"
   ]
  },
  {
   "cell_type": "markdown",
   "id": "2c0ac5f2",
   "metadata": {},
   "source": [
    "Hmm... It looks like our measurement is pretty bad.  The reason for this is that we overestimated the mass of the W boson because many of the \"signal\" events selected contain a Z boson which has higher mass. Because we can't easily find a selection that removes Z jets and keeps W jets we will resort to making a correction from the Monte Carlo (MC). Since we have control over what samples go into the MC we can actually do our fit with and without Z jets to see how biased our procedure is. Then we can correct for this bias approriately."
   ]
  },
  {
   "cell_type": "markdown",
   "id": "9da3e9c9",
   "metadata": {},
   "source": [
    "-----"
   ]
  },
  {
   "cell_type": "markdown",
   "id": "bae22bca",
   "metadata": {},
   "source": [
    "# 4. Correcting $m_W$"
   ]
  },
  {
   "cell_type": "markdown",
   "id": "6b59825f",
   "metadata": {},
   "source": [
    "First we need to perform the selection for W again"
   ]
  },
  {
   "cell_type": "code",
   "execution_count": null,
   "id": "4b6150cc",
   "metadata": {},
   "outputs": [],
   "source": [
    "#Lets Look at the mass\n",
    "weights = [1000*18300, \"puweight\", \"scale1fb\"]\n",
    "mrange = (45,200)  #range for mass histogram [GeV]\n",
    "bins=40            #bins for mass histogram\n",
    "density = True     #to plot the histograms as a density (integral=1)\n",
    "\n",
    "qcdsel      = selectionW(qcd)\n",
    "wsel        = selectionW(wqq13)\n",
    "zsel        = selectionW(zqq13)\n",
    "datasel     = selectionW(data)\n",
    "ttsel       = selectionW(tt)\n",
    "wwsel       = selectionW(ww)\n",
    "wzsel       = selectionW(wz)\n",
    "zzsel       = selectionW(zz)\n",
    "gghsel      = selectionW(ggh)\n",
    "wscale=scale(wqq,wqq13,weights)\n",
    "zscale=scale(zqq,zqq13,weights)\n",
    "\n",
    "dataW = data.arrays('vjet0_msd0', library=\"np\")[\"vjet0_msd0\"][datasel]\n",
    "qcdW = qcd.arrays('vjet0_msd0', library=\"np\")[\"vjet0_msd0\"][qcdsel]\n",
    "wW = wqq13.arrays('vjet0_msd0', library=\"np\")[\"vjet0_msd0\"][wsel]\n",
    "zW = zqq13.arrays('vjet0_msd0', library=\"np\")[\"vjet0_msd0\"][zsel]\n",
    "zzW = zz.arrays('vjet0_msd0', library=\"np\")[\"vjet0_msd0\"][zzsel]\n",
    "wzW = wz.arrays('vjet0_msd0', library=\"np\")[\"vjet0_msd0\"][wzsel]\n",
    "wwW = ww.arrays('vjet0_msd0', library=\"np\")[\"vjet0_msd0\"][wwsel]\n",
    "ttW = tt.arrays('vjet0_msd0', library=\"np\")[\"vjet0_msd0\"][ttsel]\n",
    "gghW = ggh.arrays('vjet0_msd0', library=\"np\")[\"vjet0_msd0\"][gghsel]"
   ]
  },
  {
   "cell_type": "markdown",
   "id": "a671537d",
   "metadata": {},
   "source": [
    "After that we could evaluate the MC simulation in two cases:\n",
    "\n",
    "1. MC with Z\n",
    "2. MC without Z\n",
    "\n",
    "And then based on the fit of these two samples, we could evaluate the ratio of the fitted W mass and determine the bias factor, which can then be used to correct the W mass! "
   ]
  },
  {
   "cell_type": "markdown",
   "id": "476d5186",
   "metadata": {},
   "source": [
    "## 4.1 MC with Z"
   ]
  },
  {
   "cell_type": "markdown",
   "id": "6f42bfd0",
   "metadata": {},
   "source": [
    "Here is an example on how to do this again:"
   ]
  },
  {
   "cell_type": "code",
   "execution_count": 18,
   "id": "7aa40c56",
   "metadata": {
    "collapsed": true
   },
   "outputs": [
    {
     "data": {
      "image/png": "[encoded data removed]",
      "text/plain": [
       "<Figure size 720x720 with 1 Axes>"
      ]
     },
     "metadata": {
      "needs_background": "light"
     },
     "output_type": "display_data"
    },
    {
     "name": "stdout",
     "output_type": "stream",
     "text": [
      "[[Model]]\n",
      "    Model(polgaus2)\n",
      "[[Fit Statistics]]\n",
      "    # fitting method   = leastsq\n",
      "    # function evals   = 142\n",
      "    # data points      = 28\n",
      "    # variables        = 9\n",
      "    chi-square         = 123.933266\n",
      "    reduced chi-square = 6.52280346\n",
      "    Akaike info crit   = 59.6510845\n",
      "    Bayesian info crit = 71.6409251\n",
      "[[Variables]]\n",
      "    p0:    -1.3226e-12 +/- 9.5924e-13 (72.53%) (init = -3.343897e-12)\n",
      "    p1:     7.1184e-10 +/- 6.4116e-10 (90.07%) (init = 2.133232e-09)\n",
      "    p2:    -1.2565e-07 +/- 1.6598e-07 (132.09%) (init = -5.133544e-07)\n",
      "    p3:     6.7929e-06 +/- 2.0652e-05 (304.03%) (init = 5.776477e-05)\n",
      "    p4:     9.0800e-05 +/- 0.00122056 (1344.23%) (init = -0.003111808)\n",
      "    p5:    -4.7985e-04 +/- 0.02679364 (5583.81%) (init = 0.07536875)\n",
      "    a:      0.00826650 +/- 0.00111478 (13.49%) (init = 0.005048661)\n",
      "    mu:     82.1067974 +/- 0.90544094 (1.10%) (init = 80)\n",
      "    sigma:  6.73127172 +/- 1.08802185 (16.16%) (init = 11.70122)\n",
      "[[Correlations]] (unreported correlations are < 0.100)\n",
      "    C(p0, p1)    = -0.998\n",
      "    C(p1, p2)    = -0.997\n",
      "    C(p4, p5)    = -0.997\n",
      "    C(p2, p3)    = -0.997\n",
      "    C(p3, p4)    = -0.996\n",
      "    C(p0, p2)    = 0.990\n",
      "    C(p1, p3)    = 0.988\n",
      "    C(p3, p5)    = 0.987\n",
      "    C(p2, p4)    = 0.986\n",
      "    C(p0, p3)    = -0.975\n",
      "    C(p1, p4)    = -0.971\n",
      "    C(p2, p5)    = -0.971\n",
      "    C(p0, p4)    = 0.953\n",
      "    C(p1, p5)    = 0.951\n",
      "    C(p0, p5)    = -0.928\n",
      "    C(p5, sigma) = 0.470\n",
      "    C(p4, sigma) = -0.451\n",
      "    C(p3, sigma) = 0.420\n",
      "    C(p2, sigma) = -0.385\n",
      "    C(p1, sigma) = 0.352\n",
      "    C(p5, a)     = 0.352\n",
      "    C(p4, a)     = -0.335\n",
      "    C(p0, sigma) = -0.321\n",
      "    C(p2, mu)    = 0.316\n",
      "    C(p1, mu)    = -0.315\n",
      "    C(p3, mu)    = -0.314\n",
      "    C(p0, mu)    = 0.311\n",
      "    C(p3, a)     = 0.311\n",
      "    C(p4, mu)    = 0.307\n",
      "    C(p5, mu)    = -0.296\n",
      "    C(p2, a)     = -0.285\n",
      "    C(p1, a)     = 0.260\n",
      "    C(p0, a)     = -0.237\n",
      "    C(mu, sigma) = -0.139\n",
      "    C(a, mu)     = -0.119\n"
     ]
    },
    {
     "data": {
      "text/plain": [
       "<Figure size 720x720 with 0 Axes>"
      ]
     },
     "metadata": {},
     "output_type": "display_data"
    },
    {
     "data": {
      "image/png": "[encoded data removed]",
      "text/plain": [
       "<Figure size 720x720 with 2 Axes>"
      ]
     },
     "metadata": {
      "needs_background": "light"
     },
     "output_type": "display_data"
    }
   ],
   "source": [
    "bins=28\n",
    "\n",
    "# We need the weights from our MC\n",
    "qcdweights = get_weights(qcd,weights,qcdsel)\n",
    "wweights = get_weights(wqq13,weights,wsel)*wscale\n",
    "zweights = get_weights(zqq13,weights,zsel)*zscale\n",
    "\n",
    "# Now we stack the histograms into a single density \n",
    "# so we can fit bkg+signal\n",
    "counts_mc, bins,_ = plt.hist([qcdW,wW,zW],\n",
    "                             bins=bins,\n",
    "                             range=mrange,\n",
    "                             density=True,\n",
    "                             stacked=True,\n",
    "                             color=[\"royalblue\",\"r\", \"orange\"],\n",
    "                             alpha=.6,\n",
    "                             weights= [qcdweights,wweights, zweights])\n",
    "\n",
    "plt.show()\n",
    "\n",
    "#The fit process is similar to above, first let's define the model\n",
    "model = lm.Model(polgaus2,)\n",
    "p = model.make_params(p0=-3.3438965886446737e-12,\n",
    "                      p1=2.1332319456288657e-09,\n",
    "                      p2=-5.133544460851947e-07, \n",
    "                      p3=5.776476610767709e-05,\n",
    "                      p4=-0.0031118077091850833,\n",
    "                      p5=0.07536875031296641, \n",
    "                      a=0.005048661046674717,\n",
    "                      mu=80,\n",
    "                      sigma=11.701217273469597, )\n",
    "\n",
    "#And then obtain the histogram data to fit on\n",
    "total_weights = sum([sum(weights) for weights in [qcdweights,wweights, zweights]])\n",
    "counts = counts_mc[-1] #-1 gets the last stack of hists i.e. the total histogram\n",
    "yvar = counts_mc[-1]/total_weights/np.diff(bins) # we normalize as usual\n",
    "w = 1/np.sqrt(yvar)\n",
    "binCenters = (bins[1:]+bins[:-1])*.5\n",
    "x,y = binCenters.astype(\"float32\"), counts.astype(\"float32\")\n",
    "\n",
    "resultW_mc_withZ = model.fit(data=y,\n",
    "                   params=p,\n",
    "                   x=x,\n",
    "                   weights=w,\n",
    "                   method=\"leastsq\")\n",
    "\n",
    "#Plot the results\n",
    "plt.figure()\n",
    "resultW_mc_withZ.plot()\n",
    "plt.xlabel(\"mass[GeV]\", position=(0.92,0.1))\n",
    "plt.ylabel(\"Entries/bin\", position=(0.1,0.84))\n",
    "\n",
    "print(resultW_mc_withZ.fit_report())\n",
    "\n",
    "#Obtained the fitted mass\n",
    "mW_mc_withZ = resultW_mc_withZ.params[\"mu\"].value\n",
    "mWerr_mc_withZ = resultW_mc_withZ.params[\"mu\"].stderr"
   ]
  },
  {
   "cell_type": "markdown",
   "id": "58f6e2f6",
   "metadata": {},
   "source": [
    "## 4.2 MC without Z"
   ]
  },
  {
   "cell_type": "markdown",
   "id": "e2f53b2c",
   "metadata": {},
   "source": [
    "Can carry on this step without hints? It's very straight forward"
   ]
  },
  {
   "cell_type": "code",
   "execution_count": null,
   "id": "b9398562",
   "metadata": {},
   "outputs": [],
   "source": [
    "#### YOUR CODE HERE ####"
   ]
  },
  {
   "cell_type": "markdown",
   "id": "b7063826",
   "metadata": {},
   "source": [
    "### Solution"
   ]
  },
  {
   "cell_type": "code",
   "execution_count": 19,
   "id": "2f06b79a",
   "metadata": {
    "collapsed": true
   },
   "outputs": [
    {
     "data": {
      "image/png": "[encoded data removed]",
      "text/plain": [
       "<Figure size 720x720 with 1 Axes>"
      ]
     },
     "metadata": {
      "needs_background": "light"
     },
     "output_type": "display_data"
    },
    {
     "name": "stdout",
     "output_type": "stream",
     "text": [
      "[[Model]]\n",
      "    Model(polgaus2)\n",
      "[[Fit Statistics]]\n",
      "    # fitting method   = leastsq\n",
      "    # function evals   = 72\n",
      "    # data points      = 28\n",
      "    # variables        = 9\n",
      "    chi-square         = 96.4412578\n",
      "    reduced chi-square = 5.07585567\n",
      "    Akaike info crit   = 52.6284284\n",
      "    Bayesian info crit = 64.6182690\n",
      "[[Variables]]\n",
      "    p0:    -1.0478e-12 +/- 8.4295e-13 (80.45%) (init = -3.343897e-12)\n",
      "    p1:     5.3032e-10 +/- 5.5858e-10 (105.33%) (init = 2.133232e-09)\n",
      "    p2:    -7.9583e-08 +/- 1.4306e-07 (179.77%) (init = -5.133544e-07)\n",
      "    p3:     1.2507e-06 +/- 1.7577e-05 (1405.39%) (init = 5.776477e-05)\n",
      "    p4:     3.9730e-04 +/- 0.00102504 (258.00%) (init = -0.003111808)\n",
      "    p5:    -0.00609215 +/- 0.02229797 (366.01%) (init = 0.07536875)\n",
      "    a:      0.00871808 +/- 0.00114828 (13.17%) (init = 0.005048661)\n",
      "    mu:     80.0439332 +/- 0.63890565 (0.80%) (init = 80)\n",
      "    sigma:  4.67980096 +/- 0.69940906 (14.95%) (init = 11.70122)\n",
      "[[Correlations]] (unreported correlations are < 0.100)\n",
      "    C(p0, p1)    = -0.998\n",
      "    C(p1, p2)    = -0.998\n",
      "    C(p2, p3)    = -0.997\n",
      "    C(p3, p4)    = -0.997\n",
      "    C(p4, p5)    = -0.997\n",
      "    C(p0, p2)    = 0.991\n",
      "    C(p1, p3)    = 0.989\n",
      "    C(p2, p4)    = 0.988\n",
      "    C(p3, p5)    = 0.987\n",
      "    C(p0, p3)    = -0.978\n",
      "    C(p1, p4)    = -0.974\n",
      "    C(p2, p5)    = -0.972\n",
      "    C(p0, p4)    = 0.959\n",
      "    C(p1, p5)    = 0.954\n",
      "    C(p0, p5)    = -0.935\n",
      "    C(p5, sigma) = 0.368\n",
      "    C(p4, sigma) = -0.353\n",
      "    C(p3, sigma) = 0.330\n",
      "    C(p2, sigma) = -0.304\n",
      "    C(a, sigma)  = -0.295\n",
      "    C(p1, sigma) = 0.280\n",
      "    C(p0, sigma) = -0.258\n",
      "    C(p5, a)     = 0.230\n",
      "    C(p4, a)     = -0.220\n",
      "    C(p3, a)     = 0.205\n",
      "    C(p2, a)     = -0.190\n",
      "    C(p1, a)     = 0.175\n",
      "    C(p1, mu)    = -0.172\n",
      "    C(p0, mu)    = 0.171\n",
      "    C(p2, mu)    = 0.171\n",
      "    C(p3, mu)    = -0.168\n",
      "    C(p4, mu)    = 0.163\n",
      "    C(p0, a)     = -0.161\n",
      "    C(p5, mu)    = -0.154\n"
     ]
    },
    {
     "data": {
      "text/plain": [
       "<Figure size 720x720 with 0 Axes>"
      ]
     },
     "metadata": {},
     "output_type": "display_data"
    },
    {
     "data": {
      "image/png": "[encoded data removed]",
      "text/plain": [
       "<Figure size 720x720 with 2 Axes>"
      ]
     },
     "metadata": {
      "needs_background": "light"
     },
     "output_type": "display_data"
    }
   ],
   "source": [
    "bins=28\n",
    "\n",
    "# We need the weights from our MC\n",
    "qcdweights = get_weights(qcd,weights,qcdsel)\n",
    "wweights =get_weights(wqq13,weights,wsel)*wscale\n",
    "\n",
    "\n",
    "# Now we stack the histograms into a single density \n",
    "# so we can fit bkg+signal\n",
    "counts_mc, bins,_ = plt.hist([qcdW,wW],\n",
    "                             bins=bins,\n",
    "                             range=mrange,\n",
    "                             density=True,\n",
    "                             stacked=True,\n",
    "                             color=[\"royalblue\",\"r\"],\n",
    "                             alpha=.6,\n",
    "                             weights= [qcdweights, wweights])\n",
    "plt.show()\n",
    "\n",
    "#Obtain the new histogram to fit on\n",
    "total_weights = sum([sum(weights) for weights in [qcdweights,wweights]])\n",
    "counts = counts_mc[-1] #-1 gets the last stack of hists i.e. the total histogram\n",
    "yvar = counts_mc[-1]/total_weights/np.diff(bins) # we normalize as usual\n",
    "w = 1/np.sqrt(yvar)\n",
    "binCenters = (bins[1:]+bins[:-1])*.5\n",
    "x,y = binCenters.astype(\"float32\"), counts.astype(\"float32\")\n",
    "\n",
    "#Perform the fit\n",
    "model = lm.Model(polgaus2,)\n",
    "p = model.make_params(p0=-3.3438965886446737e-12,\n",
    "                      p1=2.1332319456288657e-09,\n",
    "                      p2=-5.133544460851947e-07, \n",
    "                      p3=5.776476610767709e-05,\n",
    "                      p4=-0.0031118077091850833,\n",
    "                      p5=0.07536875031296641, \n",
    "                      a=0.005048661046674717,\n",
    "                      mu=80,\n",
    "                      sigma=11.701217273469597,)\n",
    "\n",
    "\n",
    "resultW_mc_noZ = model.fit(data=y, params=p, x=x, weights=w, method=\"leastsq\")\n",
    "\n",
    "#Plot the result\n",
    "plt.figure()\n",
    "resultW_mc_noZ.plot()\n",
    "plt.xlabel(\"mass[GeV]\",position=(0.92,0.1))\n",
    "plt.ylabel(\"Entries/bin\",position=(0.1,0.84))\n",
    "\n",
    "print(resultW_mc_noZ.fit_report())"
   ]
  },
  {
   "cell_type": "markdown",
   "id": "81a7396f",
   "metadata": {},
   "source": [
    "-----"
   ]
  },
  {
   "cell_type": "markdown",
   "id": "a908d142",
   "metadata": {},
   "source": [
    "Then we can obtain the mass with no Z in the sample:"
   ]
  },
  {
   "cell_type": "code",
   "execution_count": null,
   "id": "623b4fc7",
   "metadata": {},
   "outputs": [],
   "source": [
    "mW_mc_noZ = #### YOUR CODE HERE ####\n",
    "mWerr_mc_noZ = #### YOUR CODE HERE ####"
   ]
  },
  {
   "cell_type": "markdown",
   "id": "f4a8040e",
   "metadata": {},
   "source": [
    "### Solution"
   ]
  },
  {
   "cell_type": "code",
   "execution_count": null,
   "id": "3e1b905e",
   "metadata": {},
   "outputs": [],
   "source": [
    "mW_mc_noZ = resultW_mc_noZ.params[\"mu\"].value\n",
    "mWerr_mc_noZ = resultW_mc_noZ.params[\"mu\"].stderr"
   ]
  },
  {
   "cell_type": "markdown",
   "id": "c8a710f7",
   "metadata": {},
   "source": [
    "## 4.3 Bias factor and correct for W mass"
   ]
  },
  {
   "cell_type": "markdown",
   "id": "1774dfaa",
   "metadata": {},
   "source": [
    "Now that we obtain the W mass in both cases, let's correct for the W mass!"
   ]
  },
  {
   "cell_type": "code",
   "execution_count": 20,
   "id": "6c296967",
   "metadata": {},
   "outputs": [],
   "source": [
    "# now we calculate our bias factor\n",
    "# if the W mass measured with and without Z is the same \n",
    "# this factor should be 1\n",
    "bias = #### YOUR CODE HERE ####\n",
    "\n",
    "#propagate the error assuming uncorrelated gaussian uncertainties\n",
    "bias_err = #### YOUR CODE HERE ####"
   ]
  },
  {
   "cell_type": "markdown",
   "id": "add3ab49",
   "metadata": {},
   "source": [
    "### Solution"
   ]
  },
  {
   "cell_type": "code",
   "execution_count": 20,
   "id": "48f548a9",
   "metadata": {},
   "outputs": [],
   "source": [
    "# now we calculate our bias factor\n",
    "# if the W mass measured with and without Z is the same \n",
    "# this factor should be 1\n",
    "bias = mW_mc_withZ / mW_mc_noZ\n",
    "\n",
    "#propagate the error assuming uncorrelated gaussian uncertainties\n",
    "bias_err = np.sqrt((mWerr_mc_noZ*mW_mc_withZ/mW_mc_noZ**2)**2+(mWerr_mc_withZ/mW_mc_noZ)**2)"
   ]
  },
  {
   "cell_type": "markdown",
   "id": "deebc74f",
   "metadata": {},
   "source": [
    "-----"
   ]
  },
  {
   "cell_type": "code",
   "execution_count": null,
   "id": "8fc879b4",
   "metadata": {},
   "outputs": [],
   "source": [
    "mW_corrected = #### YOUR CODE HERE ####\n",
    "mWerr_corrected = #### YOUR CODE HERE ####"
   ]
  },
  {
   "cell_type": "markdown",
   "id": "23b2fc75",
   "metadata": {},
   "source": [
    "### Solution"
   ]
  },
  {
   "cell_type": "code",
   "execution_count": 21,
   "id": "3196edc0",
   "metadata": {},
   "outputs": [],
   "source": [
    "mW_corrected = mW/bias\n",
    "mWerr_corrected = np.sqrt((mWerr/bias)**2 + (bias_err*mW/bias**2)**2)"
   ]
  },
  {
   "cell_type": "markdown",
   "id": "e4e550f3",
   "metadata": {},
   "source": [
    "-----"
   ]
  },
  {
   "cell_type": "code",
   "execution_count": 22,
   "id": "19e9b3d2",
   "metadata": {},
   "outputs": [
    {
     "name": "stdout",
     "output_type": "stream",
     "text": [
      "Correcting the W mass using MC (simulated data) gives m_W = 80.6 +\\- 1.6\n"
     ]
    }
   ],
   "source": [
    "print(f\"Correcting the W mass using MC (simulated data) gives m_W = {mW_corrected:.1f} +\\- {mWerr_corrected:.1f}\")"
   ]
  },
  {
   "cell_type": "markdown",
   "id": "24a3ad68",
   "metadata": {},
   "source": [
    "If you did everything reasonably, you should get a number similar to this:\n",
    "\n",
    "$$m_W = 80.6 \\pm 1.6$$"
   ]
  },
  {
   "cell_type": "code",
   "execution_count": 23,
   "id": "18c2e181",
   "metadata": {},
   "outputs": [
    {
     "name": "stdout",
     "output_type": "stream",
     "text": [
      "sin^2(θ) = 0.222 +\\- 0.037\n"
     ]
    }
   ],
   "source": [
    "sin2theta = 1 - (mW_corrected/mZ)**2\n",
    "sin2theta_err = #### YOUR CODE HERE ####\n",
    "print(f\"sin^2(θ) = {sin2theta:.3f} +\\- {sin2theta_err:.3f}\")"
   ]
  },
  {
   "cell_type": "markdown",
   "id": "51175ccf",
   "metadata": {},
   "source": [
    "### Solution"
   ]
  },
  {
   "cell_type": "code",
   "execution_count": 23,
   "id": "94023e34",
   "metadata": {},
   "outputs": [
    {
     "name": "stdout",
     "output_type": "stream",
     "text": [
      "sin^2(θ) = 0.222 +\\- 0.037\n"
     ]
    }
   ],
   "source": [
    "sin2theta = 1 - (mW_corrected/mZ)**2\n",
    "sin2theta_err = np.sqrt((2*mW_corrected*mWerr_corrected/mZ**2)**2 + (2*mW_corrected**2*mZerr/mZ**3)**2)\n",
    "print(f\"sin^2(θ) = {sin2theta:.3f} +\\- {sin2theta_err:.3f}\")"
   ]
  },
  {
   "cell_type": "markdown",
   "id": "cfbc64ac",
   "metadata": {},
   "source": [
    "-----"
   ]
  },
  {
   "cell_type": "markdown",
   "id": "5b667df1",
   "metadata": {},
   "source": [
    "And the new $Sin^2(\\theta)$ should be at around:\n",
    "\n",
    "$$Sin^2(\\theta) = 0.222 \\pm 0.037$$"
   ]
  },
  {
   "cell_type": "markdown",
   "id": "979dfdc4",
   "metadata": {},
   "source": [
    "This measurement is much better than the previous one! Congratulations on making it this far to this lab!\n",
    "\n",
    "Now if you have made it through this whole exercise, why don't you try to look for the Higgs boson. The Higgs boson also decays hadronically and decays predominantly to a certainy pair of particles. Take a look [here](http://pdg.lbl.gov/2019/reviews/rpp2019-rev-higgs-boson.pdf). \n",
    " <font color=\"blue\"> Can you search for the Higgs boson? What is your sensitivity.  </font>"
   ]
  },
  {
   "cell_type": "markdown",
   "id": "bfc0cc11",
   "metadata": {},
   "source": [
    "------"
   ]
  },
  {
   "cell_type": "markdown",
   "id": "104b62d2",
   "metadata": {},
   "source": [
    "## 4. Search for the Higgs Boson! (OPTIONAL)"
   ]
  }
 ],
 "metadata": {
  "kernelspec": {
   "display_name": "Python 3 (ipykernel)",
   "language": "python",
   "name": "python3"
  },
  "language_info": {
   "codemirror_mode": {
    "name": "ipython",
    "version": 3
   },
   "file_extension": ".py",
   "mimetype": "text/x-python",
   "name": "python",
   "nbconvert_exporter": "python",
   "pygments_lexer": "ipython3",
   "version": "3.7.12"
  }
 },
 "nbformat": 4,
 "nbformat_minor": 5
}
