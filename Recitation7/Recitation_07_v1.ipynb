{
 "cells": [
  {
   "cell_type": "markdown",
   "metadata": {},
   "source": [
    "<!--start-block-->\n",
    "<hr style=\"height: 1px;\">\n",
    "<i>This code was authored by the 8.S50x Course Team, Copyright 2021 MIT All Rights Reserved.</i>\n",
    "<hr style=\"height: 1px;\">\n",
    "<br>\n",
    "\n",
    "# RECITATION 7: Introduction to Special Relativity, the LHC, and Jets\n",
    "\n",
    "<br>\n",
    "<!--end-block--> "
   ]
  },
  {
   "cell_type": "markdown",
   "metadata": {},
   "source": [
    "<!--start-block-->\n",
    "<hr style=\"height: 1px;\">\n",
    "\n",
    "## 7.0 Overview of Learning Objectives\n",
    "\n",
    "\n",
    "In this recitation we will explore the following objectives:\n",
    "\n",
    "- fill in information\n",
    "\n",
    "<br>\n",
    "<!--end-block-->"
   ]
  },
  {
   "cell_type": "markdown",
   "metadata": {},
   "source": [
    "<!--start-block-->\n",
    "<hr style=\"height: 1px;\">\n",
    "\n",
    "## 7.1 [Section title]\n",
    "\n",
    "text\n",
    "\n",
    "<br>"
   ]
  },
  {
   "cell_type": "markdown",
   "metadata": {},
   "source": [
    "<!--start-block-->\n",
    "### >>>QUESTION\n",
    "\n",
    "<!--\n",
    "<question multiplechoice>\n",
    "csq_name = 'EX_02_02a'\n",
    "csq_allow_viewanswer = True\n",
    "csq_allow_check = False\n",
    "csq_allow_save = True  \n",
    "csq_renderer = 'radio'\n",
    "csq_prompt='Question prompt needed'\n",
    "csq_options=['option 1', 'option 2', 'option 3']\n",
    "csq_soln = 1\n",
    "csq_soln_mode = 'index' # (otherwies csq_soln = csq_options[0])\n",
    "</question>  \n",
    "-->\n",
    "\n",
    "\n",
    "[QUESION TEXT HERE]\n",
    "\n",
    "\n",
    "<br>\n",
    "<!--end-block-->"
   ]
  }
 ],
 "metadata": {
  "kernelspec": {
   "display_name": "Python 3",
   "language": "python",
   "name": "python3"
  },
  "language_info": {
   "codemirror_mode": {
    "name": "ipython",
    "version": 3
   },
   "file_extension": ".py",
   "mimetype": "text/x-python",
   "name": "python",
   "nbconvert_exporter": "python",
   "pygments_lexer": "ipython3",
   "version": "3.7.1"
  }
 },
 "nbformat": 4,
 "nbformat_minor": 4
}
