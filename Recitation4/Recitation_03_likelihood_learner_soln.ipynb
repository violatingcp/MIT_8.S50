{
 "cells": [
  {
   "cell_type": "markdown",
   "id": "14db6fe4",
   "metadata": {},
   "source": [
    "<!--start-block-->\n",
    "<hr style=\"height: 1px;\">\n",
    "<i>This code was authored by the 8.S50x Course Team, Copyright 2021 MIT All Rights Reserved.</i>\n",
    "<hr style=\"height: 1px;\">\n",
    "<br>\n",
    "\n",
    "# RECITATION 3: Likelihoods and Fitting\n",
    "\n",
    "<span style=\"color:red\">Jack wrote this notebook into recitation 3 before he learned that it's really more like recitation 4 material. So it was moved to recitation 4. It reviews the principles of frequentist fitting and goes through an example of how to fit using a non-Gaussian likelihood. A fair amount of the students' work at the end is devoted to making nice plots as well.\n",
    "</span>\n",
    "\n",
    "<br>\n",
    "<!--end-block--> "
   ]
  },
  {
   "cell_type": "markdown",
   "id": "baf2833f",
   "metadata": {},
   "source": [
    "<!--start-block-->\n",
    "<hr style=\"height: 1px;\">\n",
    "\n",
    "## 3.1 Principles of Frequentist Fitting\n",
    "\n",
    "Suppose you have some data $D$ you've collected, and a model for the data. Your model is really a function $f$ which maps from some model parameters $\\theta$ to the data $D$. The purpose of the fit is to determine the true value of $\\theta$ from the data.\n",
    "\n",
    "In this language, $D$ and $\\theta$ can be vectors or scalars depending on how many data points or parameters there are. To make things more complicated, the data points $D$ usually have an uncertainty on them called a <b>systematic uncertainty</b>. You can represent this by thinking of the data as a set of random variables.\n",
    "\n",
    "(<i>Technical note:</i> In practice, thinking of the data as random variables means that the parameter $\\theta$ is also a random variable. It therefore doesn't make sense to ask for the true <i>value</i> of $\\theta$; instead we should ask for the true <i>distribution</i>. However, most people gloss over this fact by representing the \"value\" of $\\theta$ as its distribution's mean.)\n",
    "\n",
    "\n",
    "<!--end-block-->"
   ]
  },
  {
   "cell_type": "markdown",
   "id": "30b7d872",
   "metadata": {},
   "source": [
    "<!--start-block-->\n",
    "\n",
    "As you can imagine, the problem of finding the true $\\theta$ is hard. That's why there are multiple fitting methods. The most popular are **Bayesian** and **frequentist** fitting, and we study frequentist here.\n",
    "\n",
    "To fit a model function $f$ to data $D$ using the frequentist method, perform the following two steps.\n",
    "\n",
    "1. Use your knowledge of the model to derive a <b>likelihood</b> function for your data. Likelihood is defined as the probability of the data $D$ occuring given some guess at parameters $\\theta$. In the language of probability,\n",
    "$$\\mathcal{L}(\\theta) = P(D | \\theta)$$\n",
    "\n",
    "2. Find the value $\\theta_0$ which maximizes the likelihood. Take this value as your fit result.\n",
    "\n",
    "That's it! In practice, you might also be interested in getting uncertainties on your fit result, so we'll discuss that in the next section.\n",
    "<!--end-block-->"
   ]
  },
  {
   "cell_type": "markdown",
   "id": "e91d2a6b",
   "metadata": {},
   "source": [
    "<!--start-block-->\n",
    "#### <span style=\"color:purple\">>>>QUESTION</span>\n",
    "\n",
    "\n",
    "The frequentist method is so simple! Why do other methods exist? I.e., what are potential problems with the logic behind the method?\n",
    "\n",
    "Hint: Why should the $\\theta$ that maximizes likelihood be the true $\\theta$? Should the goal be to maximize $P(D|\\theta)$ or $P(\\theta|D)$?\n",
    "\n",
    "<br>\n",
    "<!--end-block-->"
   ]
  },
  {
   "cell_type": "markdown",
   "id": "9597a95b",
   "metadata": {},
   "source": [
    "<!--start-block-->\n",
    "<hr style=\"height: 1px;\">\n",
    "\n",
    "## 3.3 Likelihood\n",
    "\n",
    "To investigate the first step of the minimization process, let's look at a different example.\n",
    "\n",
    "Suppose you're an astrophysicist looking at a distant star. Photons hit your telescope at random, independent intervals, so the the number that you detect within your period of observation is Poisson distributed.\n",
    "\n",
    "Also, this star is really important, and $N\\gg 1$ telescopes are looking at it. Your data $D$ is therefore is $\\{n_1, n_2, \\dots, n_N\\}$ which is the counts observed by the telescopes during one day."
   ]
  },
  {
   "cell_type": "markdown",
   "id": "a6820504",
   "metadata": {},
   "source": [
    "<!--start-block-->\n",
    "#### <span style=\"color:green\">>>>RUN</span>\n",
    "\n",
    "Let's generate some Poisson-distributed sample data for each telescope. We'll assume a parameter of $\\lambda=5$ counts per day, with $N=100$ telescopes.\n",
    "\n",
    "<!--\n",
    "#initial code\n",
    "import numpy as np\n",
    "\n",
    "LAMBDA = 5\n",
    "N = 100\n",
    "\n",
    "counts = np.random.poisson(LAMBDA, N);\n",
    "-->\n",
    "\n",
    "<!--end-block-->"
   ]
  },
  {
   "cell_type": "code",
   "execution_count": 3,
   "id": "e3c6266c",
   "metadata": {},
   "outputs": [],
   "source": [
    "import numpy as np\n",
    "\n",
    "LAMBDA = 5\n",
    "N = 100\n",
    "\n",
    "counts = np.random.poisson(LAMBDA, N);"
   ]
  },
  {
   "cell_type": "markdown",
   "id": "bebb2071",
   "metadata": {},
   "source": [
    "<!--start-block-->\n",
    "#### <span style=\"color:green\">>>>RUN</span>\n",
    "\n",
    "Since each telescope's detection $n_i$ is independent, the probability of detecting data set $D$ given some estimate of $\\lambda$, which is the parameter, is simply the product of the probability for each telescope to detect $n_i$. This probability is Poisson distributed.\n",
    "\n",
    "We would like to use `LMFIT`'s minimize function, which does not actually request the likelihood as an input. Instead, it asks for the logarithm of the likelihood of each data point, and assumes that each data point is independent. Internally, it adds all the likelihoods from all data points to get the log-likelihood of the data.\n",
    "\n",
    "<!--\n",
    "#initial code\n",
    "import numpy as np\n",
    "from scipy.stats import poisson\n",
    "\n",
    "def log_likelihood(l, data):\n",
    "    return np.log(poisson.pmf(data, l))\n",
    "-->"
   ]
  },
  {
   "cell_type": "code",
   "execution_count": 5,
   "id": "9a427d59",
   "metadata": {},
   "outputs": [],
   "source": [
    "import numpy as np\n",
    "from scipy.stats import poisson\n",
    "\n",
    "def log_likelihood(l, data):\n",
    "    return np.log(poisson.pmf(data, l))"
   ]
  },
  {
   "cell_type": "markdown",
   "id": "cd1f2094",
   "metadata": {},
   "source": [
    "<!--start-block-->\n",
    "#### <span style=\"color:green\">>>>RUN</span>\n",
    "\n",
    "Use `LMFIT`'s minimize function to maximize the likelihood (i.e. minimize the negative likelihood) and recover our $\\lambda=5$ value.\n",
    "\n",
    "<!--\n",
    "#initial code\n",
    "from lmfit import minimize, fit_report\n",
    "\n",
    "def negative_log_likelihood(l, data):\n",
    "    return -log_likelihood(l, data)\n",
    "\n",
    "params = Parameters()\n",
    "params.add('l', min=0, value=1)\n",
    "\n",
    "result = minimize(negative_log_likelihood, params, args=(counts,))\n",
    "print(fit_report(result))\n",
    "-->\n",
    "\n",
    "<!--end-block-->"
   ]
  },
  {
   "cell_type": "code",
   "execution_count": 6,
   "id": "158a2d35",
   "metadata": {},
   "outputs": [
    {
     "name": "stdout",
     "output_type": "stream",
     "text": [
      "[[Fit Statistics]]\n",
      "    # fitting method   = leastsq\n",
      "    # function evals   = 17\n",
      "    # data points      = 100\n",
      "    # variables        = 1\n",
      "    chi-square         = 490.896895\n",
      "    reduced chi-square = 4.95855449\n",
      "    Akaike info crit   = 161.106393\n",
      "    Bayesian info crit = 163.711563\n",
      "[[Variables]]\n",
      "    l:  5.39202565 +/- 0.56166769 (10.42%) (init = 1)\n"
     ]
    }
   ],
   "source": [
    "from lmfit import Parameters, minimize, fit_report\n",
    "\n",
    "def negative_log_likelihood(l, data):\n",
    "    return -log_likelihood(l, data)\n",
    "\n",
    "params = Parameters()\n",
    "params.add('l', min=0, value=1)\n",
    "\n",
    "result = minimize(negative_log_likelihood, params, args=(counts,))\n",
    "print(fit_report(result))"
   ]
  },
  {
   "cell_type": "markdown",
   "id": "24a1afc9",
   "metadata": {},
   "source": [
    "<!--start-block-->\n",
    "#### <span style=\"color:purple\">>>>QUESTION</span>\n",
    "\n",
    "\n",
    "Why is it okay to use the log likelihood instead of the likelihood for our likelihood function?\n",
    "\n",
    "Hint: what is the one and only purpose of the likelihood function we have mentioned so far? How is it affected by taking the log?\n",
    "\n",
    "<br>\n",
    "<!--end-block-->"
   ]
  },
  {
   "cell_type": "markdown",
   "id": "b607d961",
   "metadata": {},
   "source": [
    "<!--start-block-->\n",
    "#### <span style=\"color:#BA2220\">>>>EXERCISE</span>\n",
    "\n",
    "Show the following in the same plot\n",
    "* A histogram of the $n_i$ values observed by all the telescopes (choose your bins wisely)\n",
    "* Superimposed, the best fit Poisson distribution with the $\\lambda$ you got above (access the $\\lambda$ with `result.params['l'].value` instead of copying it over)\n",
    "* The true distribution ($\\lambda$=5)\n",
    "* Axis labels\n",
    "* A legend\n",
    "\n",
    "<!--\n",
    "#initial code\n",
    "import numpy as np\n",
    "import matplotlib.pyplot as plt\n",
    "from scipy.stats import poisson\n",
    "\n",
    "#your code here\n",
    "-->\n",
    "\n",
    "<!--\n",
    "#solution\n",
    "import numpy as np\n",
    "import matplotlib.pyplot as plt\n",
    "from scipy.stats import poisson\n",
    "\n",
    "bins = np.arange(np.max(counts)+1)-0.5\n",
    "xs = bins+0.5\n",
    "plt.hist(counts, bins=bins, label=\"Photon data\", fill=False, histtype=\"step\", color='k', linewidth=2)\n",
    "plt.plot(xs, N * poisson.pmf(xs, result.params['l'].value), label=\"Best fit distro\", color=\"C0\", linewidth=2)\n",
    "plt.plot(xs, N * poisson.pmf(xs,LAMBDA), label=\"True distro\", color=\"C1\", linewidth=2)\n",
    "\n",
    "plt.xlabel(\"Number of photons observed\")\n",
    "plt.ylabel(\"Number of telescopes\")\n",
    "plt.legend()\n",
    "-->\n",
    "\n",
    "<!--end-block-->"
   ]
  },
  {
   "cell_type": "code",
   "execution_count": 8,
   "id": "a096f58d",
   "metadata": {},
   "outputs": [
    {
     "data": {
      "text/plain": [
       "<matplotlib.legend.Legend at 0x7f1f41f2ef70>"
      ]
     },
     "execution_count": 8,
     "metadata": {},
     "output_type": "execute_result"
    },
    {
     "data": {
      "image/png": "[encoded data removed]",
      "text/plain": [
       "<Figure size 432x288 with 1 Axes>"
      ]
     },
     "metadata": {
      "needs_background": "light"
     },
     "output_type": "display_data"
    }
   ],
   "source": [
    "import numpy as np\n",
    "import matplotlib.pyplot as plt\n",
    "from scipy.stats import poisson\n",
    "\n",
    "bins = np.arange(np.max(counts)+1)-0.5\n",
    "xs = bins+0.5\n",
    "plt.hist(counts, bins=bins, label=\"Photon data\", fill=False, histtype=\"step\", color='k', linewidth=2)\n",
    "plt.plot(xs, N * poisson.pmf(xs, result.params['l'].value), label=\"Best fit distro\", color=\"C0\", linewidth=2)\n",
    "plt.plot(xs, N * poisson.pmf(xs,LAMBDA), label=\"True distro\", color=\"C1\", linewidth=2)\n",
    "\n",
    "plt.xlabel(\"Number of photons observed\")\n",
    "plt.ylabel(\"Number of telescopes\")\n",
    "plt.legend()"
   ]
  },
  {
   "cell_type": "markdown",
   "id": "de0c039e",
   "metadata": {},
   "source": [
    "<!--start-block-->\n",
    "#### <span style=\"color:#BA2220\">>>>EXERCISE</span>\n",
    "\n",
    "To take into effect the uncertainty on $\\lambda$, compute the Poisson distribution not just for the best fit value of $\\lambda$, but also for $\\lambda - 2\\sigma_\\lambda$, $\\lambda+2\\sigma_\\lambda$, and ten $\\lambda$s in between. Store those results in a list. Here, $\\sigma_\\lambda$ is the uncertainty on $\\lambda$ generated by the fit and you can get it with `result.params['l'].stderr`.\n",
    "\n",
    "Copy and paste your code from above and add an error band (`plt.fill_between`) where the lower edge of the error band in each bin represents the lowest number of telescopes predicted among all the distributions you computed above, and the higher edge represents the highest number of telescopes.\n",
    "\n",
    "Please ask for help if you're confused about how to do this or about what you're being asked to do.\n",
    "\n",
    "<!--\n",
    "#initial code\n",
    "import numpy as np\n",
    "import matplotlib.pyplot as plt\n",
    "from scipy.stats import poisson\n",
    "\n",
    "#your code here\n",
    "-->\n",
    "\n",
    "<!--\n",
    "#solution\n",
    "import numpy as np\n",
    "import matplotlib.pyplot as plt\n",
    "from scipy.stats import poisson\n",
    "\n",
    "bins = np.arange(np.max(counts)+1)-0.5\n",
    "xs = bins+0.5\n",
    "plt.hist(counts, bins=bins, label=\"Photon data\", fill=False, histtype=\"step\", color='k', linewidth=2)\n",
    "plt.plot(xs, N * poisson.pmf(xs, result.params['l'].value), label=\"Best fit distro\", color=\"C0\", linewidth=2)\n",
    "plt.plot(xs, N * poisson.pmf(xs,LAMBDA), label=\"True distro\", color=\"C1\", linewidth=2)\n",
    "\n",
    "factor = np.linspace(-2, 2, 10)\n",
    "distros = np.array([N * poisson.pmf(xs, result.params['l'].value + f * result.params['l'].stderr) for f in factor])\n",
    "minimum = [np.min(distros[:,i]) for i in range(distros.shape[1])]\n",
    "maximum = [np.max(distros[:,i]) for i in range(distros.shape[1])]\n",
    "plt.fill_between(xs, minimum, maximum, alpha=0.5, color=\"C0\")\n",
    "plt.xlabel(\"Number of photons observed\")\n",
    "plt.ylabel(\"Number of telescopes\")\n",
    "plt.legend()\n",
    "-->\n",
    "\n",
    "<!--end-block-->"
   ]
  },
  {
   "cell_type": "code",
   "execution_count": 10,
   "id": "c4425c14",
   "metadata": {},
   "outputs": [
    {
     "data": {
      "text/plain": [
       "<matplotlib.legend.Legend at 0x7f1f39ddebe0>"
      ]
     },
     "execution_count": 10,
     "metadata": {},
     "output_type": "execute_result"
    },
    {
     "data": {
      "image/png": "[encoded data removed]",
      "text/plain": [
       "<Figure size 432x288 with 1 Axes>"
      ]
     },
     "metadata": {
      "needs_background": "light"
     },
     "output_type": "display_data"
    }
   ],
   "source": [
    "import numpy as np\n",
    "import matplotlib.pyplot as plt\n",
    "from scipy.stats import poisson\n",
    "\n",
    "bins = np.arange(np.max(counts)+1)-0.5\n",
    "xs = bins+0.5\n",
    "plt.hist(counts, bins=bins, label=\"Photon data\", fill=False, histtype=\"step\", color='k', linewidth=2)\n",
    "plt.plot(xs, N * poisson.pmf(xs, result.params['l'].value), label=\"Best fit distro\", color=\"C0\", linewidth=2)\n",
    "plt.plot(xs, N * poisson.pmf(xs,LAMBDA), label=\"True distro\", color=\"C1\", linewidth=2)\n",
    "\n",
    "factor = np.linspace(-2, 2, 10)\n",
    "distros = np.array([N * poisson.pmf(xs, result.params['l'].value + f * result.params['l'].stderr) for f in factor])\n",
    "minimum = [np.min(distros[:,i]) for i in range(distros.shape[1])]\n",
    "maximum = [np.max(distros[:,i]) for i in range(distros.shape[1])]\n",
    "plt.fill_between(xs, minimum, maximum, alpha=0.5, color=\"C0\")\n",
    "plt.xlabel(\"Number of photons observed\")\n",
    "plt.ylabel(\"Number of telescopes\")\n",
    "plt.legend()"
   ]
  },
  {
   "cell_type": "code",
   "execution_count": null,
   "id": "1e4a3c0d",
   "metadata": {},
   "outputs": [],
   "source": []
  }
 ],
 "metadata": {
  "kernelspec": {
   "display_name": "Python 3",
   "language": "python",
   "name": "python3"
  },
  "language_info": {
   "codemirror_mode": {
    "name": "ipython",
    "version": 3
   },
   "file_extension": ".py",
   "mimetype": "text/x-python",
   "name": "python",
   "nbconvert_exporter": "python",
   "pygments_lexer": "ipython3",
   "version": "3.8.10"
  }
 },
 "nbformat": 4,
 "nbformat_minor": 5
}
