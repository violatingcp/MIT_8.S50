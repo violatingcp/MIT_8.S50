{
 "cells": [
  {
   "cell_type": "markdown",
   "metadata": {},
   "source": [
    "<!--start-block-->\n",
    "<hr style=\"height: 1px;\">\n",
    "<i>This code was authored by the 8.S50x Course Team, Copyright 2021 MIT All Rights Reserved.</i>\n",
    "<hr style=\"height: 1px;\">\n",
    "<br>\n",
    "\n",
    "# RECITATION 8b: Convolutions\n",
    "\n",
    "<br>\n",
    "<!--end-block--> "
   ]
  },
  {
   "cell_type": "markdown",
   "metadata": {},
   "source": [
    "<!--start-block-->\n",
    "<hr style=\"height: 1px;\">\n",
    "\n",
    "## 8b.0 Overview of Learning Objectives\n",
    "\n",
    "In this recitation we will explore the following objectives:\n",
    "\n",
    "- fill in information\n",
    "\n",
    "<br>\n",
    "<!--end-block-->"
   ]
  },
  {
   "cell_type": "markdown",
   "metadata": {},
   "source": [
    "<!--start-block-->\n",
    "<hr style=\"height: 1px;\">\n",
    "\n",
    "## 8b.1 Course 6.1 Perspective\n",
    "\n",
    "- The response of an LTI (Linear Time Invariant) system to an arbitrary signal is described by the operation called \"convolution\". Denoted by an asterix (works both ways) $(x * h) = (h * x)$\n",
    "- The unit sample response $h[n]$ is a complete description of a system, defined as the response to an impulse.\n",
    "<img src='impulse.png' alt=\"drawing\" width=\"300\"/>\n",
    "$$\\boxed{y(t) = (x * h)[n] =\\sum\\limits_{k=-\\infty}^\\infty h[k]x[n-k]}$$\n",
    "<br>\n",
    "$$\\boxed{y(t) = (h * x)(t) = \\int_{-\\infty}^{\\infty} h(\\tau) x(t-\\tau) d\\tau}$$\n",
    "<br>"
   ]
  },
  {
   "cell_type": "markdown",
   "metadata": {},
   "source": [
    "### Diagramtic Overview\n",
    "\n",
    "<img src='impulse.png' alt=\"drawing\" width=\"300\"/>\n",
    "<img src='impulse2.png' alt=\"drawing\" width=\"350\"/>\n",
    "<img src='impulse3.png' alt=\"drawing\" width=\"415\"/>\n",
    "<img src='impulse4.png' alt=\"drawing\" width=\"600\"/>"
   ]
  },
  {
   "cell_type": "markdown",
   "metadata": {},
   "source": [
    "### Time-Domain and Frequency-Domain Convolutions\n",
    "\n",
    "- Convolutions are critical for signal analysis and are yet another bridge between the time domain and frequency domain\n",
    "- Time Domain:\n",
    "<img src='time_domain.png' alt=\"drawing\" width=\"600\"/>\n",
    "- Frequency Domain:\n",
    "<img src='frequency_domain.png' alt=\"drawing\" width=\"630\"/>\n",
    "\n",
    "- The great implication here is that **convolution in the time domain is multiplication in the frequency domain!**\n",
    "- Thinking back to LIGO, this makes filtering very easy (i.e. just multiply both frequency responses)"
   ]
  },
  {
   "cell_type": "markdown",
   "metadata": {},
   "source": [
    "### Visualizing Convolutions\n",
    "\n",
    "- Looking at the definition of convolution you can convince yourself that it's equivalent to flipping (time-reversing) one of the signals and sweeping it across another. \n",
    "<img src='convolution.gif' alt=\"drawing\" width=\"610\"/>\n",
    "<img src='comparison.png' alt=\"drawing\" width=\"520\"/>"
   ]
  },
  {
   "cell_type": "markdown",
   "metadata": {},
   "source": [
    "<!--start-block-->\n",
    "#### <span style=\"color:purple\">>>>QUESTION</span>\n",
    "\n",
    "\n",
    "Question text needed...\n",
    "\n",
    "\n",
    "<br>\n",
    "<!--end-block-->"
   ]
  },
  {
   "cell_type": "markdown",
   "metadata": {},
   "source": [
    "<!--start-block-->\n",
    "<hr style=\"height: 1px;\">\n",
    "\n",
    "## 8b.2 Statistical Perspective\n",
    "\n",
    "- Convolution is a mathematical operation on two functions ($f$ and $g$) that produce a third function ($f * g$) that expresses how the shape of one is modified by the other. \n",
    "- The probability distribution of the sum of two or more independent random variables is the convolution of their individual distributions.\n",
    "\n",
    "Convulutions are a critical component of evey good statistical analysis. Its a way to multiply distributions together. \n",
    "Lets build convlutions up by scratch and then go from there. \n",
    "$$ Z = X + X' $$\n",
    "The core concept of a convolution is that you are effectively multiplying distributions. Given two functions $f(x)$ and $g(x)$, we can define convolutions by \n",
    "\\begin{eqnarray}\n",
    "(f*g)(z) &=& \\int^{\\infty}_{-\\infty} f(z-t)g(t)dt\n",
    "\\end{eqnarray}\n",
    "For data analysis, we usually think about this in the context of probability distribuitons $g$ and $f$. From here, we construct a new probability distribution $(f*g)$. Anyway, lets take a look at how it works. "
   ]
  },
  {
   "cell_type": "markdown",
   "metadata": {},
   "source": [
    "<!--start-block-->\n",
    "#### <span style=\"color:#BA2220\">>>>EXERCISE</span>\n",
    "\n",
    "\n",
    "[Explain what we are doing here]\n"
   ]
  },
  {
   "cell_type": "code",
   "execution_count": 1,
   "metadata": {},
   "outputs": [],
   "source": [
    "import numpy as np\n",
    "import matplotlib.pyplot as plt\n",
    "plt.style.use('seaborn-pastel')"
   ]
  },
  {
   "cell_type": "code",
   "execution_count": 2,
   "metadata": {},
   "outputs": [],
   "source": [
    "#First lets define a triangular distribution\n",
    "def triangle(x,mean=5):\n",
    "    Norm=mean*mean\n",
    "    if x <= mean: \n",
    "        return max(x,0)/Norm\n",
    "    if x > mean:\n",
    "        return max(2*mean-x,0)/Norm\n",
    "#Now define the gaussian\n",
    "def gaussian(x,mean=0,sigma=1):\n",
    "    return 1./(sigma * np.sqrt(2 * np.pi)) * np.exp( - (x - mean)**2 / (2 * sigma**2)) \n"
   ]
  },
  {
   "cell_type": "markdown",
   "metadata": {},
   "source": [
    "<!--start-block-->\n",
    "#### <span style=\"color:#BA2220\">>>>EXERCISE</span>\n",
    "\n",
    "\n",
    "[Explain what we are doing here]"
   ]
  },
  {
   "cell_type": "code",
   "execution_count": 3,
   "metadata": {},
   "outputs": [],
   "source": [
    "#Now lets do a convolution by hand\n",
    "def convolve(f1,f2,x,iMin=-10,iMax=10,iN=2000):\n",
    "    step=(iMax-iMin)/iN\n",
    "    pInt=0\n",
    "    for i0 in range(iN):\n",
    "            pX   = i0*step+iMin\n",
    "            pVal = f1(x-pX)*f2(pX)\n",
    "            pInt += pVal*step\n",
    "    return pInt"
   ]
  },
  {
   "cell_type": "code",
   "execution_count": 4,
   "metadata": {},
   "outputs": [
    {
     "data": {
      "image/png": "[encoded data removed]",
      "text/plain": [
       "<Figure size 432x288 with 1 Axes>"
      ]
     },
     "metadata": {
      "needs_background": "light"
     },
     "output_type": "display_data"
    }
   ],
   "source": [
    "fig, ax = plt.subplots()\n",
    "x_in=np.linspace(-10, 15, 100)\n",
    "tri_out=np.array(list(map(triangle, x_in)))#triangle(x_in)\n",
    "gaus_out=np.array(list(map(gaussian, x_in))) #gaussian(x_in)\n",
    "conv_out=[]\n",
    "for val in x_in:\n",
    "    pConv_out=convolve(gaussian,triangle,val)\n",
    "    conv_out.append(pConv_out)\n",
    "    \n",
    "ax.plot(x_in,tri_out,label='triangle')\n",
    "ax.plot(x_in,gaus_out,label='gaussian')\n",
    "ax.plot(x_in,conv_out,label='convolved')\n",
    "ax.set(xlabel='x(t)', ylabel='y(t)',title='Convolutions')\n",
    "ax.grid()\n",
    "plt.legend()\n",
    "plt.show()"
   ]
  },
  {
   "cell_type": "markdown",
   "metadata": {},
   "source": [
    "<!--start-block-->\n",
    "#### <span style=\"color:#BA2220\">>>>EXERCISE</span>\n",
    "\n",
    "\n",
    "[Explain what we are doing here]"
   ]
  },
  {
   "cell_type": "code",
   "execution_count": 17,
   "metadata": {},
   "outputs": [
    {
     "data": {
      "image/png": "[encoded data removed]",
      "text/plain": [
       "<Figure size 432x288 with 1 Axes>"
      ]
     },
     "metadata": {
      "needs_background": "light"
     },
     "output_type": "display_data"
    }
   ],
   "source": [
    "def gaussian1(x,mean=1,sigma=1):\n",
    "    return 1./(sigma * np.sqrt(2 * np.pi)) * np.exp( - (x - mean)**2 / (2 * sigma**2)) \n",
    "def gaussian4(x,mean=4,sigma=1):\n",
    "    return 1./(sigma * np.sqrt(2 * np.pi)) * np.exp( - (x - mean)**2 / (2 * sigma**2)) \n",
    "\n",
    "fig, ax = plt.subplots()\n",
    "x_in=np.linspace(-10, 15, 100)\n",
    "gaus1_out=np.array(list(map(gaussian1, x_in)))#triangle(x_in)\n",
    "gaus4_out=np.array(list(map(gaussian4, x_in))) #gaussian(x_in)\n",
    "conv_out=[]\n",
    "for val in x_in:\n",
    "    pConv_out=convolve(gaussian1,gaussian4,val)\n",
    "    conv_out.append(pConv_out)\n",
    "    \n",
    "ax.plot(x_in,gaus1_out,label='gaussian1')\n",
    "ax.plot(x_in,gaus4_out,label='gaussian4')\n",
    "ax.plot(x_in,conv_out,label='convolved')\n",
    "ax.set(xlabel='x(t)', ylabel='y(t)',title='Convolutions')\n",
    "ax.grid()\n",
    "plt.legend()\n",
    "plt.show()"
   ]
  },
  {
   "cell_type": "markdown",
   "metadata": {},
   "source": [
    "<!--start-block-->\n",
    "#### <span style=\"color:purple\">>>>QUESTION</span>\n",
    "\n",
    "\n",
    "Question text needed...\n",
    "\n",
    "\n",
    "<br>\n",
    "<!--end-block-->"
   ]
  },
  {
   "cell_type": "markdown",
   "metadata": {},
   "source": [
    "<!--start-block-->\n",
    "<hr style=\"height: 1px;\">\n",
    "\n",
    "## 8b.3 Why are convolutions useful? \n",
    "- Cross covariance, Power Spectral Density, Auto-Covariance, Cross-Correlation and the likes are all defined with the backbone of a convolution. \n",
    "- Helps visualize probability distributions of summed independent random variables. \n",
    "- Like earlier said, it's the basis for filter design (matched filtering, high pass, low pass)\n",
    "- Gaussian \"blurring\" or \"smearing\"\n",
    "    - Convolutions are useful for \"smearing\" data or altering the means,variances of gaussians"
   ]
  },
  {
   "cell_type": "markdown",
   "metadata": {},
   "source": [
    "<img src = \"gauss_blur.png\">"
   ]
  },
  {
   "cell_type": "markdown",
   "metadata": {},
   "source": [
    "- Underlying mechanism of the Central Limit Theorem (CTL)\n",
    "<img src = \"ctl1.png\" alt=\"drawing\" width=\"560\"/>\n",
    "<img src = 'ctl2.png' alt=\"drawing\" width=\"560\"/>"
   ]
  },
  {
   "cell_type": "markdown",
   "metadata": {},
   "source": [
    "- Idea behind \"deconvolution/deblurring\" filters (Wiener filter for removing noise)\n",
    "<img src =\"deconv.png\">"
   ]
  },
  {
   "cell_type": "markdown",
   "metadata": {},
   "source": [
    "<!--start-block-->\n",
    "#### <span style=\"color:purple\">>>>QUESTION</span>\n",
    "\n",
    "\n",
    "Question text needed...\n",
    "\n",
    "\n",
    "<br>\n",
    "<!--end-block-->"
   ]
  },
  {
   "cell_type": "markdown",
   "metadata": {},
   "source": [
    "<!--start-block-->\n",
    "<hr style=\"height: 1px;\">\n",
    "\n",
    "## 8b.4 Masks in the Jet Substructure Lab\n",
    "- Selection in the VQQ notebook is done using \"masks\"\n",
    "- Rather than going through each array and picking out the values we want we use masks\n",
    "- Create a boolean array of 1s and 0s [0,1,1,1,1,0,1,0,1,1,0] based on some selection criteria \n",
    "- Broadly ATLAS will have 3 triggers hence, all the trigger data will be composed of 0,1,3 s [0,1,3,3,3,1,0,3,1,3,1,0,3]"
   ]
  },
  {
   "cell_type": "markdown",
   "metadata": {},
   "source": [
    "<!--start-block-->\n",
    "#### <span style=\"color:#BA2220\">>>>EXERCISE</span>\n",
    "\n",
    "\n",
    "[Explain what we are doing here]"
   ]
  },
  {
   "cell_type": "code",
   "execution_count": null,
   "metadata": {},
   "outputs": [],
   "source": [
    "#Selects for all the '1's and '3's jet pT > 320 (Trigger values of 1,3 indicate this Transverse momentum cutoff)\n",
    "triggerdata1 = (dataDict['data'].arrays('trigger', library=\"np\")[\"trigger\"].flatten() % 2 > 0)\n",
    "#Selects for all the '3's only jet pT > 370 (Trigger values of 3 indicate this higher Transverse momentum cutoff)\n",
    "triggerdata2 = (dataDict['data'].arrays('trigger', library=\"np\")[\"trigger\"].flatten() % 4 > 1) "
   ]
  },
  {
   "cell_type": "code",
   "execution_count": null,
   "metadata": {},
   "outputs": [],
   "source": [
    "masks = {}\n",
    "for key in myDataDict: masks[key] = selection(myDataDict[key])\n",
    "maskData = selection(dataDict['data'])"
   ]
  },
  {
   "cell_type": "markdown",
   "metadata": {},
   "source": [
    "-  These selections return arrays of [0,1,0,1] that specify the data points that fit our criteria and the ones that we want to discard.\n",
    "- The advantage here is that we can apply this mask to several different arrays at once (wqq,zqq,qcd...) instead of running a selection and for looping through all of them"
   ]
  },
  {
   "cell_type": "markdown",
   "metadata": {},
   "source": [
    "<!--start-block-->\n",
    "#### <span style=\"color:#BA2220\">>>>EXERCISE</span>\n",
    "\n",
    "\n",
    "[Explain what we are doing here]"
   ]
  },
  {
   "cell_type": "code",
   "execution_count": null,
   "metadata": {},
   "outputs": [],
   "source": [
    "def histErr(iVar,iLabel,iBins,iMin,iMax,iSims,iMasks,iData=None,iMaskData=None,\n",
    "            iLabels=None,iColors=None,\n",
    "            iDensity=True,iStack=False,iWeights=None):"
   ]
  },
  {
   "cell_type": "markdown",
   "metadata": {},
   "source": [
    "- iVar #Variable we're looking to plot\n",
    "- iLabel #Histrogram Title\n",
    "- iBins # How many bins (divide iMax-iMin into those bins)\n",
    "- iMin #X axis Min \n",
    "- iMax #x axism Max\n",
    "- iSims # Simulation Data\n",
    "- iMasks # Simulation Mask\n",
    "- iData #Data Data\n",
    "- iMaskData #Data Mask\n",
    "- iLabels #Labels of each mask (each data set)\n",
    "- iColors #Colors for each mask\n",
    "- iDensity #You want normalization with that?\n",
    "- iStack #Style (filled or not filled bars)\n",
    "- iWeights #Weights (described earlier in notebook)"
   ]
  },
  {
   "cell_type": "markdown",
   "metadata": {},
   "source": [
    "<!--start-block-->\n",
    "#### <span style=\"color:#BA2220\">>>>EXERCISE</span>\n",
    "\n",
    "\n",
    "[Explain what we are doing here]"
   ]
  },
  {
   "cell_type": "code",
   "execution_count": null,
   "metadata": {},
   "outputs": [],
   "source": [
    "histErr('vjet0_pt','Fat jet $p_T$ [GeV]',50,300,1e3,\n",
    "        [dataDict['data'],dataDict['data'],dataDict['data']], #the simulation data 3 times\n",
    "        [alldata,triggerdata1,triggerdata2], #apply 3 different masks onto that simulation data\n",
    "        iLabels=['all','$p_T$>320','$p_T$>370'],\n",
    "        iColors=['black','red','blue'],\n",
    "        iDensity=True,iStack=False,iWeights=None)"
   ]
  },
  {
   "cell_type": "markdown",
   "metadata": {},
   "source": [
    "<!--start-block-->\n",
    "#### <span style=\"color:#BA2220\">>>>EXERCISE</span>\n",
    "\n",
    "\n",
    "[Explain what we are doing here]"
   ]
  },
  {
   "cell_type": "code",
   "execution_count": null,
   "metadata": {},
   "outputs": [],
   "source": [
    "histErr('vjet0_msd0','Fat jet $m_{SD}$ [GeV]',50,40,200,\n",
    "        myDataDict,masks, #look at all the simulation data (myDataDict) and apply all the masks (masks)\n",
    "        dataDict['data'],maskData, #look at the data data and apply the mask (maskData)\n",
    "        iDensity=True,iStack=False,iWeights=True)"
   ]
  }
 ],
 "metadata": {
  "kernelspec": {
   "display_name": "Python 3",
   "language": "python",
   "name": "python3"
  },
  "language_info": {
   "codemirror_mode": {
    "name": "ipython",
    "version": 3
   },
   "file_extension": ".py",
   "mimetype": "text/x-python",
   "name": "python",
   "nbconvert_exporter": "python",
   "pygments_lexer": "ipython3",
   "version": "3.7.1"
  }
 },
 "nbformat": 4,
 "nbformat_minor": 2
}
