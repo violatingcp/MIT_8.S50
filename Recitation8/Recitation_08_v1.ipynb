{
 "cells": [
  {
   "cell_type": "markdown",
   "metadata": {},
   "source": [
    "<!--start-block-->\n",
    "<hr style=\"height: 1px;\">\n",
    "<i>This code was authored by the 8.S50x Course Team, Copyright 2021 MIT All Rights Reserved.</i>\n",
    "<hr style=\"height: 1px;\">\n",
    "<br>\n",
    "\n",
    "# RECITATION 8: Bayesian statistics\n",
    "\n",
    "<br>\n",
    "<!--end-block--> "
   ]
  },
  {
   "cell_type": "markdown",
   "metadata": {},
   "source": [
    "<!--start-block-->\n",
    "<hr style=\"height: 1px;\">\n",
    "\n",
    "## 8.0 Overview of Learning Objectives\n",
    "\n",
    "In this recitation we will explore the following objectives:\n",
    "\n",
    "- fill in information\n",
    "\n",
    "<br>\n",
    "<!--end-block-->"
   ]
  },
  {
   "cell_type": "markdown",
   "metadata": {},
   "source": [
    "<!--start-block-->\n",
    "<hr style=\"height: 1px;\">\n",
    "\n",
    "## 8.1 Coin Toss Example\n",
    "\n",
    "Let's calculate some probability distributions for the weighting on a coin after tossing it a bunch of times.\n",
    "\n",
    "In the case where we assume a uniform prior for $p$, the probability of tossing heads, we get the following for our posterior:\n",
    "\\begin{equation} P(p\\mid D) \\propto P(p)\\cdot P(D\\mid p) = \\frac{N!}{m!(N-m)!}(1-p)^{N-m}p^m \\end{equation}\n",
    "where we've tossed the coin $N$ times and gotten heads $m$ times.\n",
    "\n",
    "Let's define a function to calculate this for different values of $N$ and $m$."
   ]
  },
  {
   "cell_type": "code",
   "execution_count": 12,
   "metadata": {},
   "outputs": [],
   "source": [
    "import numpy as np\n",
    "import matplotlib.pyplot as plt\n",
    "from scipy.special import comb\n",
    "from scipy.signal import peak_widths\n",
    "\n",
    "def with_uniform_prior(p,N,m):\n",
    "    return comb(N,m)*np.power(p,m)*np.power(1-p,N-m)"
   ]
  },
  {
   "cell_type": "markdown",
   "metadata": {},
   "source": [
    "<!--start-block-->\n",
    "### >>>EXERCISE\n",
    "\n",
    "<!--\n",
    "<question multiplechoice>\n",
    "csq_name = 'EX_02_02a'\n",
    "csq_allow_viewanswer = True\n",
    "csq_allow_check = False\n",
    "csq_allow_save = True  \n",
    "csq_renderer = 'radio'\n",
    "csq_prompt='Question prompt needed'\n",
    "csq_options=['option 1', 'option 2', 'option 3']\n",
    "csq_soln = 1\n",
    "csq_soln_mode = 'index' # (otherwies csq_soln = csq_options[0])\n",
    "</question>  \n",
    "-->\n",
    "\n",
    "\n",
    "What does this look like for $N=20$ and $m=15$?\n",
    "\n",
    "\n",
    "<br>\n",
    "<!--end-block-->\n",
    "\n"
   ]
  },
  {
   "cell_type": "code",
   "execution_count": 14,
   "metadata": {},
   "outputs": [
    {
     "data": {
      "image/png": "[encoded data removed]",
      "text/plain": [
       "<Figure size 432x288 with 1 Axes>"
      ]
     },
     "metadata": {
      "needs_background": "light"
     },
     "output_type": "display_data"
    },
    {
     "name": "stdout",
     "output_type": "stream",
     "text": [
      "Best p:  0.75\n"
     ]
    }
   ],
   "source": [
    "N = 20\n",
    "m = 15\n",
    "p = np.linspace(0,1,1000)\n",
    "posterior = with_uniform_prior(p,N,m)     # calculating P(p|D)\n",
    "plt.axvline(0.75,c='k')              # plotting the p=0.75 line\n",
    "plt.plot(p,posterior)\n",
    "plt.show()\n",
    "\n",
    "best_p = p[np.argmax(posterior)]     # getting the value of p where P(p|D) is maximized\n",
    "print('Best p: ', round(best_p,3))"
   ]
  },
  {
   "cell_type": "markdown",
   "metadata": {},
   "source": [
    "<!--start-block-->\n",
    "### >>>EXERCISE\n",
    "\n",
    "<!--\n",
    "<question multiplechoice>\n",
    "csq_name = 'EX_02_02a'\n",
    "csq_allow_viewanswer = True\n",
    "csq_allow_check = False\n",
    "csq_allow_save = True  \n",
    "csq_renderer = 'radio'\n",
    "csq_prompt='Question prompt needed'\n",
    "csq_options=['option 1', 'option 2', 'option 3']\n",
    "csq_soln = 1\n",
    "csq_soln_mode = 'index' # (otherwies csq_soln = csq_options[0])\n",
    "</question>  \n",
    "-->\n",
    "\n",
    "\n",
    "What if we tossed the coin 100 times and kept the proportion of heads the same? So $N=100$ and $m=75$?\n",
    "\n",
    "\n",
    "<br>\n",
    "<!--end-block-->\n",
    "\n"
   ]
  },
  {
   "cell_type": "code",
   "execution_count": 15,
   "metadata": {},
   "outputs": [
    {
     "data": {
      "image/png": "[encoded data removed]",
      "text/plain": [
       "<Figure size 432x288 with 1 Axes>"
      ]
     },
     "metadata": {
      "needs_background": "light"
     },
     "output_type": "display_data"
    },
    {
     "name": "stdout",
     "output_type": "stream",
     "text": [
      "Best p:  0.75\n"
     ]
    }
   ],
   "source": [
    "N = 100\n",
    "m = 75\n",
    "posterior = with_uniform_prior(p,N,m)     # calculating P(p|D)\n",
    "plt.axvline(0.75,c='k')              # plotting the p=0.75 line\n",
    "plt.plot(p,posterior)\n",
    "plt.show()\n",
    "\n",
    "best_p = p[np.argmax(posterior)]     # getting the value of p where P(p|D) is maximized\n",
    "print('Best p: ', round(best_p,3))    "
   ]
  },
  {
   "cell_type": "markdown",
   "metadata": {},
   "source": [
    "<!--start-block-->\n",
    "### >>>EXERCISE\n",
    "\n",
    "<!--\n",
    "<question multiplechoice>\n",
    "csq_name = 'EX_02_02a'\n",
    "csq_allow_viewanswer = True\n",
    "csq_allow_check = False\n",
    "csq_allow_save = True  \n",
    "csq_renderer = 'radio'\n",
    "csq_prompt='Question prompt needed'\n",
    "csq_options=['option 1', 'option 2', 'option 3']\n",
    "csq_soln = 1\n",
    "csq_soln_mode = 'index' # (otherwies csq_soln = csq_options[0])\n",
    "</question>  \n",
    "-->\n",
    "\n",
    "\n",
    "And if we had tossed it way fewer times? $N=4$ and $m=3$.\n",
    "\n",
    "\n",
    "<br>\n",
    "<!--end-block-->"
   ]
  },
  {
   "cell_type": "code",
   "execution_count": 16,
   "metadata": {},
   "outputs": [
    {
     "data": {
      "image/png": "[encoded data removed]",
      "text/plain": [
       "<Figure size 432x288 with 1 Axes>"
      ]
     },
     "metadata": {
      "needs_background": "light"
     },
     "output_type": "display_data"
    },
    {
     "name": "stdout",
     "output_type": "stream",
     "text": [
      "Best p:  0.75\n"
     ]
    }
   ],
   "source": [
    "N = 4\n",
    "m = 3\n",
    "posterior = with_uniform_prior(p,N,m)     # calculating P(p|D)\n",
    "plt.axvline(0.75,c='k')              # plotting the p=0.75 line\n",
    "plt.plot(p,posterior)\n",
    "plt.show()\n",
    "\n",
    "best_p = p[np.argmax(posterior)]     # getting the value of p where P(p|D) is maximized\n",
    "print('Best p: ', round(best_p,3)) "
   ]
  },
  {
   "cell_type": "markdown",
   "metadata": {},
   "source": [
    "### Conclusion\n",
    "\n",
    "\n",
    "So you can see that the number of data points influences the width of $P(p|D)$, giving us a straightforward way of calculating an uncertainty on the value of $p$ -- which stays the same in all cases. Bayesian statistics gives us a clear recipe to analyze all three of these situations.\n",
    "\n",
    "<br>"
   ]
  },
  {
   "cell_type": "markdown",
   "metadata": {},
   "source": [
    "<!--start-block-->\n",
    "<hr style=\"height: 1px;\">\n",
    "\n",
    "## 3.2 Another prior\n",
    "Let's assume that unfair coins are super rare, and define a different prior for this case. With 99% probability, the coin is nearly perfectly weighted. We'll model this as a Gaussian with mean 0.5 and $\\sigma=0.01$. With 1% chance, it is an unfair coin -- in this case we have no idea what $p$ is so we'll use a uniform distribution.\n",
    "\\begin{equation} P(p) = 0.99\\cdot \\frac{1}{0.01\\sqrt{2\\pi}}\\exp\\left(-\\frac{1}{2}\\cdot\\frac{(p-0.5)^2}{\\sigma^2}\\right)+0.01\\cdot1 \\end{equation}"
   ]
  },
  {
   "cell_type": "code",
   "execution_count": 18,
   "metadata": {},
   "outputs": [],
   "source": [
    "def with_new_prior(p,N,m):\n",
    "    prior = 0.99 / (0.01 * np.sqrt(2*np.pi)) * np.exp(-(p-0.5)**2/(2*0.01**2))+0.01\n",
    "    return prior*with_uniform_prior(p,N,m)"
   ]
  },
  {
   "cell_type": "markdown",
   "metadata": {},
   "source": [
    "<!--start-block-->\n",
    "### >>>EXERCISE\n",
    "\n",
    "<!--\n",
    "<question multiplechoice>\n",
    "csq_name = 'EX_02_02a'\n",
    "csq_allow_viewanswer = True\n",
    "csq_allow_check = False\n",
    "csq_allow_save = True  \n",
    "csq_renderer = 'radio'\n",
    "csq_prompt='Question prompt needed'\n",
    "csq_options=['option 1', 'option 2', 'option 3']\n",
    "csq_soln = 1\n",
    "csq_soln_mode = 'index' # (otherwies csq_soln = csq_options[0])\n",
    "</question>  \n",
    "-->\n",
    "\n",
    "\n",
    "As above, what does this look like for 𝑁=20 and 𝑚=15?\n",
    "\n",
    "\n",
    "<br>\n",
    "<!--end-block-->"
   ]
  },
  {
   "cell_type": "code",
   "execution_count": 19,
   "metadata": {},
   "outputs": [
    {
     "data": {
      "image/png": "[encoded data removed]",
      "text/plain": [
       "<Figure size 432x288 with 1 Axes>"
      ]
     },
     "metadata": {
      "needs_background": "light"
     },
     "output_type": "display_data"
    },
    {
     "name": "stdout",
     "output_type": "stream",
     "text": [
      "Best p:  0.502\n"
     ]
    }
   ],
   "source": [
    "N = 20\n",
    "m = 15\n",
    "posterior = with_new_prior(p,N,m)     # calculating P(p|D)\n",
    "plt.plot(p,posterior)\n",
    "plt.show()\n",
    "\n",
    "best_p = p[np.argmax(posterior)]     # getting the value of p where P(p|D) is maximized\n",
    "print('Best p: ', round(best_p,3)) "
   ]
  },
  {
   "cell_type": "markdown",
   "metadata": {},
   "source": [
    "<!--start-block-->\n",
    "### >>>EXERCISE\n",
    "\n",
    "<!--\n",
    "<question multiplechoice>\n",
    "csq_name = 'EX_02_02a'\n",
    "csq_allow_viewanswer = True\n",
    "csq_allow_check = False\n",
    "csq_allow_save = True  \n",
    "csq_renderer = 'radio'\n",
    "csq_prompt='Question prompt needed'\n",
    "csq_options=['option 1', 'option 2', 'option 3']\n",
    "csq_soln = 1\n",
    "csq_soln_mode = 'index' # (otherwies csq_soln = csq_options[0])\n",
    "</question>  \n",
    "-->\n",
    "\n",
    "\n",
    "This prior really changes the results! In the $N=20$ and $m=15$ cases, this looks a lot like a fair coin. What if we add more events? Try 𝑁=80 and 𝑚=60?\n",
    "\n",
    "\n",
    "<br>\n",
    "<!--end-block-->"
   ]
  },
  {
   "cell_type": "code",
   "execution_count": 20,
   "metadata": {},
   "outputs": [
    {
     "data": {
      "image/png": "[encoded data removed]",
      "text/plain": [
       "<Figure size 432x288 with 1 Axes>"
      ]
     },
     "metadata": {
      "needs_background": "light"
     },
     "output_type": "display_data"
    },
    {
     "name": "stdout",
     "output_type": "stream",
     "text": [
      "Best p:  0.75\n"
     ]
    }
   ],
   "source": [
    "N = 80\n",
    "m = 60\n",
    "posterior = with_new_prior(p,N,m)     # calculating P(p|D)\n",
    "plt.plot(p,posterior)\n",
    "best_p = p[np.argmax(posterior)]     # getting the value of p where P(p|D) is maximized\n",
    "plt.axvline(best_p,c='k')\n",
    "plt.show()\n",
    "\n",
    "print('Best p: ', round(best_p,3)) "
   ]
  },
  {
   "cell_type": "markdown",
   "metadata": {},
   "source": [
    "<!--start-block-->\n",
    "### >>>EXERCISE\n",
    "\n",
    "<!--\n",
    "<question multiplechoice>\n",
    "csq_name = 'EX_02_02a'\n",
    "csq_allow_viewanswer = True\n",
    "csq_allow_check = False\n",
    "csq_allow_save = True  \n",
    "csq_renderer = 'radio'\n",
    "csq_prompt='Question prompt needed'\n",
    "csq_options=['option 1', 'option 2', 'option 3']\n",
    "csq_soln = 1\n",
    "csq_soln_mode = 'index' # (otherwies csq_soln = csq_options[0])\n",
    "</question>  \n",
    "-->\n",
    "\n",
    "\n",
    "Try 𝑁=200 and 𝑚=150?\n",
    "\n",
    "\n",
    "<br>\n",
    "<!--end-block-->"
   ]
  },
  {
   "cell_type": "code",
   "execution_count": 21,
   "metadata": {},
   "outputs": [
    {
     "data": {
      "image/png": "[encoded data removed]",
      "text/plain": [
       "<Figure size 432x288 with 1 Axes>"
      ]
     },
     "metadata": {
      "needs_background": "light"
     },
     "output_type": "display_data"
    },
    {
     "name": "stdout",
     "output_type": "stream",
     "text": [
      "Best p:  0.75\n"
     ]
    }
   ],
   "source": [
    "N = 200\n",
    "m = 150\n",
    "posterior = with_new_prior(p,N,m)     # calculating P(p|D)\n",
    "plt.plot(p,posterior)\n",
    "best_p = p[np.argmax(posterior)]     # getting the value of p where P(p|D) is maximized\n",
    "plt.axvline(best_p,c='k')\n",
    "plt.show()\n",
    "\n",
    "print('Best p: ', round(best_p,3)) "
   ]
  },
  {
   "cell_type": "markdown",
   "metadata": {},
   "source": [
    "### Conclusion\n",
    "\n",
    "So you can see a clear dependance on the choice of prior!"
   ]
  }
 ],
 "metadata": {
  "kernelspec": {
   "display_name": "Python 3",
   "language": "python",
   "name": "python3"
  },
  "language_info": {
   "codemirror_mode": {
    "name": "ipython",
    "version": 3
   },
   "file_extension": ".py",
   "mimetype": "text/x-python",
   "name": "python",
   "nbconvert_exporter": "python",
   "pygments_lexer": "ipython3",
   "version": "3.7.1"
  }
 },
 "nbformat": 4,
 "nbformat_minor": 2
}
