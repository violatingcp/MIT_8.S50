{
 "cells": [
  {
   "cell_type": "markdown",
   "metadata": {},
   "source": [
    "<!--start-block-->\n",
    "<hr style=\"height: 1px;\">\n",
    "<i>This code was authored by the 8.S50x Course Team, Copyright 2021 MIT All Rights Reserved.</i>\n",
    "<hr style=\"height: 1px;\">\n",
    "<br>\n",
    "\n",
    "# RECITATION 2: Fourier Analysis\n",
    "\n",
    "<br>\n",
    "<!--end-block-->"
   ]
  },
  {
   "cell_type": "markdown",
   "metadata": {},
   "source": [
    "<!--start-block-->\n",
    "<hr style=\"height: 1px;\">\n",
    "\n",
    "## 2.0 Overview of Learning Objectives\n",
    "\n",
    "In this recitation we will explore the following objectives:\n",
    "\n",
    "- Understand the frequency analysis of continuous and discrete time signals\n",
    "- Visualize the connection between time and frequency space\n",
    "- Characterize the energy/power carried by different frequencies\n",
    "- Filter and denoise a signal by visualizing its spectral content\n",
    "\n",
    "<!--end-block-->"
   ]
  },
  {
   "cell_type": "markdown",
   "metadata": {},
   "source": [
    "<!--start-block-->\n",
    "<hr style=\"height: 1px;\">\n",
    "\n",
    "## 2.1 Motivation: Gravitational Waves/LIGO \n",
    "\n",
    "- Every massive object that accelerates produces gravitational waves. \n",
    "- These can be intuitively understood as \"ripples\" in space-time that travel at the speed of light. \n",
    "- Continuous gravitational waves are thought to be produced by spinning massive objects like a neutron star. \n",
    "- Compact Binary Inspiral Gravitational Waves are of particular interest and show up as significant detections in LIGO \n",
    "    - Binary Neutron Stars (BNS)\n",
    "    - Binary Black Hole (BBH)\n",
    "    - Neutron Star-Black Hole Binary (NSBH)\n",
    "\n",
    "<!--end-block-->"
   ]
  },
  {
   "cell_type": "markdown",
   "metadata": {},
   "source": [
    "<img src='ligo.jpg' alt=\"drawing\" width=\"600\"/>\n",
    "<em>Figure: Description needed</em>"
   ]
  },
  {
   "cell_type": "markdown",
   "metadata": {},
   "source": [
    "- Measured on Earth, cataclysmic mergers change the length of a 4km LIGO arm by a thousandth of the width of a proton. \n",
    "- Strain is the instrument's detected space change within an arm in comparison to the total space (length) of the arm. \n",
    "- In the event of a detectable merger this strain data will form a \"gravitational wave signal\"."
   ]
  },
  {
   "cell_type": "markdown",
   "metadata": {},
   "source": [
    "<!--start-block-->\n",
    "<hr style=\"height: 1px;\">\n",
    "\n",
    "## 2.2 Frequency Analysis\n",
    "\n",
    "<img src='strain.png'  width=\"800\">\n",
    "<em>Figure: Description needed</em>\n",
    "\n",
    "- Is there another way of thinking about our data, in a way that may be more useful for our particular application? <br /> \n",
    "- If time-series data is too noisy/messy for easy analysis, we can consider the underlying frequency representation of the same information.\n",
    "\n",
    "**Fourier Transform**<br />\n",
    "*Space or Time Functions* &rarr; *Spatial or Temporal Frequencies* <br />\n",
    "\n",
    "**Inverse Fourier Transform**<br />\n",
    "*Spatial or Temporal Frequencies* &rarr; *Space or Time Functions*\n",
    "\n",
    "**What do I mean by \"Frequency Space\"**\n",
    "\n",
    "- In 1807 Joseph Fourier posited that any periodic signal could be represented by a sum of a particular set of harmonic sinusoids. \n",
    "- i.e. all signals can be decomposed into elemental sine and cosine components\n",
    "$$f(t) = c_0 + \\sum\\limits_{k=1}^\\infty (c_k\\cos(k\\omega_o t) + d_k\\sin(k\\omega_o t))$$\n",
    "\n",
    "<br>\n",
    "<!--end-block-->"
   ]
  },
  {
   "cell_type": "markdown",
   "metadata": {},
   "source": [
    "<img src='decompose.gif' width=\"600\">"
   ]
  },
  {
   "cell_type": "markdown",
   "metadata": {},
   "source": [
    "<img src='recompose.gif' width=\"600\">\n",
    "<em>Figure: Description needed</em>"
   ]
  },
  {
   "cell_type": "markdown",
   "metadata": {},
   "source": [
    "<!--start-block-->\n",
    "#### <span style=\"color:purple\">>>>QUESTION</span>\n",
    "\n",
    "\n",
    "Convince yourself that this sinusoidal decomposition is indeed the case.\n",
    "\n",
    "$$e^{ix} = \\cos(x) + i\\sin(x)$$\n",
    "\n",
    "<img src='plane.png' width=\"350\">\n",
    "\n",
    "\n",
    "<br>\n",
    "<!--end-block-->"
   ]
  },
  {
   "cell_type": "markdown",
   "metadata": {},
   "source": [
    "<img src='sawtooth.gif'  width=\"800\">\n",
    "<em>Figure: Description needed</em>"
   ]
  },
  {
   "cell_type": "markdown",
   "metadata": {},
   "source": [
    "<!--start-block-->\n",
    "<hr style=\"height: 1px;\">\n",
    "\n",
    "## 2.3 The Discrete Fourier Transform\n",
    "\n",
    "**Overview**\n",
    "- These decomposed sinusoids are characterized by their frequencies.\n",
    "- Want a mathematical machine that treats signals with a given frequency different than other frequencies. \n",
    "\n",
    "**Analysis (Discrete Fourier Transform)**\n",
    "- We can inspect a signal and ask how much of one frequency is present.\n",
    "- Multiply our signal by a sinusoid of a particular frequency to ask how \"similar\" the two are. \n",
    "- Call these the *fourier frequency coefficients.*\n",
    "$$X[k] = \\frac{1}{N}\\sum\\limits_{n=1}^{N-1} x[n]e^{-i\\frac{2\\pi k}{N} n}$$ <br>\n",
    "| Syntax      | Description |\n",
    "| ----------- | ----------- |\n",
    "$$ x[n]$$   | Signal for analysis       |\n",
    "$$ e^{-i\\frac{2\\pi k}{N} n}$$  | Frequency component k we compare to        |\n",
    "$$ X[k] $$ | How similar to the sinusoid of component k |\n",
    "\n",
    "$$X[k] = \\frac{1}{N}\\sum\\limits_{n=1}^{N-1} (e^{-i\\frac{2\\pi j}{N} n})(e^{i\\frac{2\\pi k}{N} n}) = \\frac{N}{N}\\delta_{jk}$$ <br>\n",
    "\n",
    "**The \"DC\" Term** $$X[0]$$\n",
    "- The 0 frequency component of a signal.\n",
    "- Represents the constant offset of a signal (if any). \n",
    "- Represents the *average value* of a signal over one period. \n",
    "\n",
    "\n",
    "**Synthesis (Inverse Discrete Fourier Transform)**\n",
    "- Can recompose signal with these coefficients.\n",
    "$$x[n] = \\sum\\limits_{k=0}^{N-1}X[k]e^{i\\frac{2\\pi k}{N} n}$$"
   ]
  },
  {
   "cell_type": "markdown",
   "metadata": {},
   "source": [
    "<img src = 'box_transform.png' width=\"600\">\n",
    "<img src = 'box_transform_2.png' width=\"600\">\n",
    "<em>Figure: Description needed</em>"
   ]
  },
  {
   "cell_type": "markdown",
   "metadata": {},
   "source": [
    "<!--start-block-->\n",
    "<hr style=\"height: 1px;\">\n",
    "\n",
    "## 2.4 Spectral Density/Power Spectrums\n",
    "\n",
    "\n",
    "##### First the Energy Spectral Density (ESD)\n",
    "- Describes how the energy of a signal is distributed with frequency. \n",
    "- The squared magnitude of each frequency \n",
    "- Good for localised transients (pulse-like signals) whose energy is concentrated around one time window. \n",
    "$$\\overline{S}_{xx}(f) = |{\\hat{x}(f)}|^2$$\n",
    "\n",
    "##### Power Spectral Density (PSD)\n",
    "- For continuous signals over all time, the power spectal density is more apt. \n",
    "- The power spectral density of a time series is the measure of the signal's power content in the frequency components that compose that signal.\n",
    "$$S_{xx}(f) = \\lim_{T \\to \\infty} \\frac{1}{T}|\\hat{x}_T(f)|^2 \\ \\textrm{where} \\ x_T \\ \\textrm{is the signal, windowed}$$\n",
    "$$S_{xx}(f) = \\int_{-\\infty}^{\\infty} R_{xx}(\\tau)e^{-i2\\pi f\\tau}d\\tau = \\hat{R}_{xx}(f) $$\n",
    "- Defined as the normalized limit of the ESD for the windowed signal.\n",
    "- Also represented as the fourier transform of the autocorrelation function (informally, the fourier transform of how similar the signal is to itself). \n"
   ]
  },
  {
   "cell_type": "markdown",
   "metadata": {},
   "source": [
    "#####  Amplitude Spectral Density (PSD)\n",
    "- Amplitude Spectral Density (ASD) is just the square-root of the PSD and is useful when the shape of the spectrum is rather constant, since variations in the ASD will then be proportional to variations in the signal's voltage itself.\n",
    "\n",
    "<img src = 'spectrum.png' width=\"500\">\n",
    "<em>Figure: Description needed</em>\n",
    "\n",
    "- Dominated by low frequencies and sharp spectral lines throughout. \n",
    "- From instrumental artifacts\"\n",
    "    - Seismic noise\n",
    "    - \"Violin Modes\" from the suspension fibers of the LIGO mirrors. \n"
   ]
  },
  {
   "cell_type": "markdown",
   "metadata": {},
   "source": [
    "<!--start-block-->\n",
    "#### <span style=\"color:purple\">>>>QUESTION</span>\n",
    "\n",
    "\n",
    "Question text needed...\n",
    "\n",
    "\n",
    "<br>\n",
    "<!--end-block-->"
   ]
  },
  {
   "cell_type": "markdown",
   "metadata": {},
   "source": [
    "<!--start-block-->\n",
    "<hr style=\"height: 1px;\">\n",
    "\n",
    "## 2.5 Spectrograms Q-Transform\n",
    "- To better understand a system, we can bridge the gap between the frequency and time domains with another transform.\n",
    "- The Short-Time Fourier Transform takes the fourier transform within shorter time segments. \n",
    "- The resulting visual representation is called a \"spectrogram\" which can be thought of as a series of fourier transforms stacked on their side. \n",
    "\n",
    "<img src = 'motif_sgram.png' width=\"500\">\n",
    "<em>Figure: Description needed</em>\n",
    "\n",
    "- The Q-Transform breaks these intervals up with logratithmic spacing for when the data are better represented as such (often times in audio.)\n",
    "\n",
    "<img src = 'stft_vs_q_gautham.png' width=\"800\">\n",
    "<em>Figure: Description needed</em>\n",
    "<!-- https://ccrma.stanford.edu/~gautham/Site/Multipitch.html -->"
   ]
  },
  {
   "cell_type": "markdown",
   "metadata": {},
   "source": [
    "#### Whitening data\n",
    "- From the ASD above, we can see that noise fluctuations are much larger at low and high frequencies and near spectral lines. \n",
    "- To better visualize deviations from the noise, it is useful to employ a technique called \"whitening\".\n",
    "- Whitening takes the data and attempts to make the power spectral density flat (i.e. normalize the power at all frequencies) so that excess power at any frequency is more obvious. \n",
    "\n",
    "- Persisent signals like noise will have their power spread about the entire time window. \n",
    "- Localized signals will have all of their power in one region region (evident spikes)\n",
    "\n",
    "- Achieved very informally by applying the inverse frequency response of the raw signal. \n",
    "\n",
    "Example: Trasmitted power in one of the interferoeter arms with two large glitches with a frequency around 5-50Hz\n",
    "\n",
    "<img src = 'whiteningexample_gwpy.png'  width=\"800\">\n",
    "<em>Figure: Description needed</em>\n"
   ]
  },
  {
   "cell_type": "markdown",
   "metadata": {},
   "source": [
    "#### Filtering\n",
    "- The amplification/attenuation of frequency components.\n",
    "- Can be done in the time domian but best viewed from the frequency domain. \n",
    "    - **Multiplication in the frequency domain**\n",
    "    - A set of scale factors H() which is refered to as the frequency response of the system.\n",
    "    \n",
    "<img src ='filters.png' width=\"800\">\n",
    "<em>Figure: Description needed</em>"
   ]
  },
  {
   "cell_type": "markdown",
   "metadata": {},
   "source": [
    "<!--start-block-->\n",
    "<hr style=\"height: 1px;\">\n",
    "\n",
    "## 2.6 Worked Example: Filtering of Audio Signal"
   ]
  },
  {
   "cell_type": "code",
   "execution_count": null,
   "metadata": {},
   "outputs": [],
   "source": [
    "#Import Packages\n",
    "import math\n",
    "import numpy as np\n",
    "import lib6003\n",
    "import matplotlib.pyplot as plt\n",
    "from lib6003.audio import wav_write\n",
    "from lib6003.audio import wav_file_play\n",
    "from lib6003.audio import wav_read\n",
    "from lib6003.audio import wav_play\n",
    "from lib6003.fft import fft\n",
    "from lib6003.fft import ifft\n",
    "from scipy.io.wavfile import write"
   ]
  },
  {
   "cell_type": "markdown",
   "metadata": {},
   "source": [
    "##### DFT Filtering\n",
    "- We can filter using DFT coefficients by scaling them appropriately."
   ]
  },
  {
   "cell_type": "code",
   "execution_count": null,
   "metadata": {},
   "outputs": [],
   "source": [
    "#Noise-Free #3 \n",
    "wav_file_play('ocean_man_raw.wav')"
   ]
  },
  {
   "cell_type": "markdown",
   "metadata": {},
   "source": [
    "###### Bass Boosting"
   ]
  },
  {
   "cell_type": "code",
   "execution_count": null,
   "metadata": {
    "scrolled": false
   },
   "outputs": [],
   "source": [
    "x,fs =wav_read('ocean_man_raw.wav')\n",
    "## x is the data, fs is the sampling frequency\n",
    "N = len(x)\n",
    "## f = k*fs/N\n",
    "## k = f*N/fs\n",
    "fc = 400 #cutoff frequency in Hz; boost all frequency content below fc\n",
    "kc = int(fc*N/fs)\n",
    "\n",
    "X = fft(x)\n",
    "Y = X[:] #copy values from X\n",
    "Y[:kc] = [i*5 for i in X[:kc]]\n",
    "Y[-kc:] = [i*5 for i in X[-kc:]]\n",
    "## Amplify all the coefficients in the bass-boosted region by 5\n",
    "\n",
    "## Inverse fourier transform and recombine into a .wav file \n",
    "y = ifft(Y)\n",
    "# assert all(abs(i.imag) < 1e-12 for i in y)\n",
    "wav_play([i.real for i in y],fs)"
   ]
  },
  {
   "cell_type": "markdown",
   "metadata": {},
   "source": [
    "###### Bass Isolation (Low Pass)"
   ]
  },
  {
   "cell_type": "code",
   "execution_count": null,
   "metadata": {},
   "outputs": [],
   "source": [
    "x,fs =wav_read('ocean_man_raw.wav')\n",
    "N = len(x)\n",
    "## f = k*fs/N\n",
    "## k =f*N/fs\n",
    "fc = 400 #cutoff frequency in Hz; boost all frequency content below fc\n",
    "kc = int(fc*N/fs)\n",
    "\n",
    "X = fft(x)\n",
    "Y = X[:] #copy values from X\n",
    "Y[kc:-kc] = [i*0 for i in X[kc:-kc]]\n",
    "\n",
    "y = ifft(Y)\n",
    "# assert all(abs(i.imag) < 1e-12 for i in y)\n",
    "wav_play([i.real for i in y],fs)"
   ]
  },
  {
   "cell_type": "markdown",
   "metadata": {},
   "source": [
    "<!--start-block-->\n",
    "<hr style=\"height: 1px;\">\n",
    "\n",
    "## 2.7 Worked Example: Signal Detection and Matched Filtering\n",
    "\n",
    "- If we have an unknown, noisy signal we can try to detect the presence of a known signal with matched filtering. \n",
    "- If we *know* or *guess* the signal we're looking for (called the *template*), we can use it as a filter for combing the data for the presence of that template.\n",
    "- Matched filters work by maximizing the signal to noise ratio (SNR) when the matched filter detects the presence of the template signal in a noisy signal. \n",
    "- Phil will talk more about convolutions next week but we can informally think of a matched filter as:\n",
    "- \"Drag\" or sweep your template across the signal and calculate some statistic.\n",
    "- The optimal statistic suggests the presence of a signal. \n",
    "\n",
    "<img src ='template.png' width=\"800\">\n",
    "<img src ='SNR.png' width=\"800\">\n",
    "<em>Figure: Description needed</em>\n"
   ]
  },
  {
   "cell_type": "code",
   "execution_count": null,
   "metadata": {
    "scrolled": false
   },
   "outputs": [],
   "source": [
    "#Noise-Free \n",
    "wav_file_play('ocean_man_raw.wav')"
   ]
  },
  {
   "cell_type": "code",
   "execution_count": null,
   "metadata": {
    "scrolled": false
   },
   "outputs": [],
   "source": [
    "#Noise\n",
    "wav_file_play('ocean_man.wav')"
   ]
  },
  {
   "cell_type": "code",
   "execution_count": null,
   "metadata": {
    "scrolled": true
   },
   "outputs": [],
   "source": [
    "#Read in Data\n",
    "data, samp_rate = wav_read('ocean_man.wav')\n",
    "#Check length of Data\n",
    "N = len(data)\n",
    "#Take the Fourier Transform\n",
    "dft_cof = fft(data)\n",
    "k = np.linspace(0,N-1,N)\n",
    "f=k*samp_rate/N\n",
    "\n",
    "plt.plot(f,np.absolute(dft_cof))\n",
    "plt.title(\"Ocean Man Spectrum\")\n",
    "plt.xlabel('Frequency $\\\\nu $')\n",
    "plt.ylabel('Magnitude $|X(\\\\nu)|$')\n",
    "plt.show()\n",
    "\n"
   ]
  },
  {
   "cell_type": "code",
   "execution_count": null,
   "metadata": {
    "scrolled": false
   },
   "outputs": [],
   "source": [
    "#Focus in on one set of conjuagte frequencies\n",
    "plt.plot(f,np.absolute(dft_cof))\n",
    "plt.xlim(-100,5000)\n",
    "plt.ylim(0,0.01)\n",
    "plt.title(\"Ocean Man Spectrum\")\n",
    "plt.xlabel('Frequency $\\\\nu $')\n",
    "plt.ylabel('Magnitude $|X(\\\\nu)|$')\n",
    "plt.show()"
   ]
  },
  {
   "cell_type": "code",
   "execution_count": null,
   "metadata": {
    "scrolled": false
   },
   "outputs": [],
   "source": [
    "#Zoom in on artifact\n",
    "plt.plot(f,np.absolute(dft_cof))\n",
    "plt.xlim(980,1000)\n",
    "plt.ylim(0,0.008)\n",
    "plt.title(\"Ocean Man Spectrum\")\n",
    "plt.xlabel('Frequency $\\\\nu $')\n",
    "plt.ylabel('Magnitude $|X(\\\\nu)|$')\n",
    "plt.show()"
   ]
  },
  {
   "cell_type": "code",
   "execution_count": null,
   "metadata": {
    "scrolled": false
   },
   "outputs": [],
   "source": [
    "k_cut = int((990*N/samp_rate))\n",
    "# print(k_cut)\n",
    "freqs = fft(data)\n",
    "# print(len(freqs))\n",
    "for i in range(k_cut-100,k_cut+100):\n",
    "    freqs[i]= 0\n",
    "for i in range(-k_cut-100,-k_cut+100):\n",
    "    freqs[i]= 0\n",
    "# print(len(freqs))\n",
    "f=k*samp_rate/N\n",
    "\n",
    "plt.plot(f,np.absolute(freqs))\n",
    "plt.show()\n"
   ]
  },
  {
   "cell_type": "code",
   "execution_count": null,
   "metadata": {},
   "outputs": [],
   "source": [
    "ocean_fix = ifft(freqs)\n",
    "wav_play(ocean_fix,samp_rate)"
   ]
  },
  {
   "cell_type": "markdown",
   "metadata": {},
   "source": [
    "<img src =\"xkcd.jpg\">"
   ]
  }
 ],
 "metadata": {
  "kernelspec": {
   "display_name": "Python 3",
   "language": "python",
   "name": "python3"
  },
  "language_info": {
   "codemirror_mode": {
    "name": "ipython",
    "version": 3
   },
   "file_extension": ".py",
   "mimetype": "text/x-python",
   "name": "python",
   "nbconvert_exporter": "python",
   "pygments_lexer": "ipython3",
   "version": "3.8.10"
  }
 },
 "nbformat": 4,
 "nbformat_minor": 4
}
