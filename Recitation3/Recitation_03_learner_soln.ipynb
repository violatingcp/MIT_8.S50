{
 "cells": [
  {
   "cell_type": "markdown",
   "metadata": {},
   "source": [
    "<!--start-block-->\n",
    "<hr style=\"height: 1px;\">\n",
    "<i>This code was authored by the 8.S50x Course Team, Copyright 2021 MIT All Rights Reserved.</i>\n",
    "<hr style=\"height: 1px;\">\n",
    "<br>\n",
    "\n",
    "# RECITATION 3: Probability Distributions, Likelihood, and LMFIT software\n",
    "\n",
    "<br>\n",
    "<!--end-block--> "
   ]
  },
  {
   "cell_type": "markdown",
   "metadata": {},
   "source": [
    "<!--start-block-->\n",
    "<hr style=\"height: 1px;\">\n",
    "\n",
    "## 3.0 Overview of Learning Objectives\n",
    "\n",
    "In this recitation we will explore the following objectives:\n",
    "\n",
    "- fill in information\n",
    "\n",
    "<br>\n",
    "<!--end-block-->"
   ]
  },
  {
   "cell_type": "markdown",
   "metadata": {},
   "source": [
    "<!--start-block-->\n",
    "<hr style=\"height: 1px;\">\n",
    "\n",
    "## 3.1 Fitting Exercise 1\n",
    "\n",
    "Now, we are going to see how this applies to fitting. Let us first generate some data randomly from from the model $y=2x$."
   ]
  },
  {
   "cell_type": "markdown",
   "metadata": {},
   "source": [
    "<!--start-block-->\n",
    "#### <span style=\"color:#BA2220\">>>>EXERCISE</span>\n",
    "\n",
    "Complete the code below to plot the random data and error bars.\n",
    "\n",
    "<!--\n",
    "#initial code\n",
    "import numpy as np\n",
    "import matplotlib.pyplot as plt\n",
    "import lmfit.models\n",
    "\n",
    "np.random.seed(2)\n",
    "\n",
    "xi = np.array([2,3,4,5,6,7])\n",
    "yerr = np.array([0.3, 0.4, 0.45, 0.35, 0.6, 0.5])\n",
    "yi = 2*xi+yerr*np.random.normal(xi.shape)\n",
    "-->\n",
    "\n",
    "<!--\n",
    "#solution \n",
    "import numpy as np\n",
    "import matplotlib.pyplot as plt\n",
    "import lmfit.models\n",
    "\n",
    "np.random.seed(2)\n",
    "\n",
    "xi = np.array([2,3,4,5,6,7])\n",
    "yerr = np.array([0.3, 0.4, 0.45, 0.35, 0.6, 0.5])\n",
    "yi = 2*xi+yerr*np.random.normal(xi.shape)\n",
    "\n",
    "plt.errorbar(xi, yi, yerr= yerr, fmt = 'o')\n",
    "plt.show()\n",
    "-->\n",
    "\n",
    "<!--end-block-->"
   ]
  },
  {
   "cell_type": "code",
   "execution_count": null,
   "metadata": {},
   "outputs": [],
   "source": [
    "import numpy as np\n",
    "import matplotlib.pyplot as plt\n",
    "import lmfit.models\n",
    "\n",
    "np.random.seed(2)\n",
    "\n",
    "xi = np.array([2,3,4,5,6,7])\n",
    "yerr = np.array([0.3, 0.4, 0.45, 0.35, 0.6, 0.5])\n",
    "yi = 2*xi+yerr*np.random.normal(xi.shape)"
   ]
  },
  {
   "cell_type": "markdown",
   "metadata": {},
   "source": [
    "<!--start-block-->\n",
    "#### <span style=\"color:#BA2220\">>>>EXERCISE</span>\n",
    "\n",
    "Apply a linear fit to the data, plot the fit, and print a report of the fit parameters.\n",
    "\n",
    "<!--\n",
    "#initial code\n",
    "from lmfit.models import LinearModel\n",
    "model = LinearModel()\n",
    "-->\n",
    "\n",
    "<!--\n",
    "#solution \n",
    "from lmfit.models import LinearModel\n",
    "model = LinearModel()\n",
    "result = model.fit(yi, x= xi, weights = 1/yerr)\n",
    "\n",
    "result.plot_fit()\n",
    "print(result.fit_report())\n",
    "-->"
   ]
  },
  {
   "cell_type": "code",
   "execution_count": null,
   "metadata": {},
   "outputs": [],
   "source": [
    "from lmfit.models import LinearModel\n",
    "model = LinearModel()"
   ]
  },
  {
   "cell_type": "markdown",
   "metadata": {},
   "source": [
    "<!--start-block-->\n",
    "<hr style=\"height: 1px;\">\n",
    "\n",
    "## 3.2 Fitting Exercise 2\n",
    "\n",
    "There are many different types of built-in models in lmfit, including Gaussians, Lorentzians, and polynomials. Let us give some more examples for how to fit different functions. In this next example, use this randomly generated data and fit it to a Gaussian distribution."
   ]
  },
  {
   "cell_type": "markdown",
   "metadata": {},
   "source": [
    "<!--start-block-->\n",
    "#### <span style=\"color:#BA2220\">>>>EXERCISE</span>\n",
    "\n",
    "Plot the randomized data, with error bars.\n",
    "\n",
    "\n",
    "<!--\n",
    "#initial code\n",
    "np.random.seed(2)\n",
    "x = np.linspace(-5 , 5, 50)\n",
    "yerr = 0.1+np.abs(0.1*np.random.normal(size = x.shape))\n",
    "\n",
    "y = 5/(np.sqrt(2*np.pi*1.0))*np.exp(-0.5*x**2.0/1.0)+yerr*np.random.normal(size = x.shape)\n",
    "-->\n",
    "\n",
    "<!--\n",
    "#solution \n",
    "np.random.seed(2)\n",
    "x = np.linspace(-5 , 5, 50)\n",
    "yerr = 0.1+np.abs(0.1*np.random.normal(size = x.shape))\n",
    "\n",
    "y = 5/(np.sqrt(2*np.pi*1.0))*np.exp(-0.5*x**2.0/1.0)+yerr*np.random.normal(size = x.shape)\n",
    "\n",
    "plt.errorbar(x, y, yerr= yerr, fmt= 'o')\n",
    "-->\n"
   ]
  },
  {
   "cell_type": "code",
   "execution_count": null,
   "metadata": {},
   "outputs": [],
   "source": [
    "np.random.seed(2)\n",
    "x = np.linspace(-5 , 5, 50)\n",
    "yerr = 0.1+np.abs(0.1*np.random.normal(size = x.shape))\n",
    "\n",
    "y = 5/(np.sqrt(2*np.pi*1.0))*np.exp(-0.5*x**2.0/1.0)+yerr*np.random.normal(size = x.shape)"
   ]
  },
  {
   "cell_type": "markdown",
   "metadata": {},
   "source": [
    "<!--start-block-->\n",
    "#### <span style=\"color:#BA2220\">>>>EXERCISE</span>\n",
    "\n",
    "Apply a Gaussian fit to the data, plot the fit, and print a report of the fit parameters.\n",
    "\n",
    "<!--\n",
    "#initial code\n",
    "from lmfit.models import GaussianModel\n",
    "\n",
    "gmodel = GaussianModel()\n",
    "\n",
    "-->\n",
    "\n",
    "<!--\n",
    "#solution \n",
    "from lmfit.models import GaussianModel\n",
    "\n",
    "gmodel = GaussianModel()\n",
    "\n",
    "result = gmodel.fit(y, x=x, weights = 1/yerr)\n",
    "\n",
    "print(result.fit_report())\n",
    "result.plot_fit()\n",
    "-->"
   ]
  },
  {
   "cell_type": "code",
   "execution_count": null,
   "metadata": {},
   "outputs": [],
   "source": [
    "from lmfit.models import GaussianModel\n",
    "\n",
    "gmodel = GaussianModel()\n"
   ]
  },
  {
   "cell_type": "markdown",
   "metadata": {},
   "source": [
    "<!--start-block-->\n",
    "<hr style=\"height: 1px;\">\n",
    "\n",
    "## 3.3 Fitting Exercise 3\n",
    "\n",
    "Note that we can also construct models based on user defined functions. In this case, we need to be careful about the initial values and the limits that we set on the maximum and minimum values."
   ]
  },
  {
   "cell_type": "markdown",
   "metadata": {},
   "source": [
    "<!--start-block-->\n",
    "#### <span style=\"color:green\">>>>RUN</span>\n",
    "\n",
    "Define a \"weird\" model by running the cell below.\n",
    "\n",
    "<!--\n",
    "#initial code\n",
    "def weird_model(x, a, b, c):\n",
    "    return a*np.sin(10*x) + b*np.exp(x)+ c*np.log(x)\n",
    "-->"
   ]
  },
  {
   "cell_type": "code",
   "execution_count": null,
   "metadata": {},
   "outputs": [],
   "source": [
    "def weird_model(x, a, b, c):\n",
    "    return a*np.sin(10*x) + b*np.exp(x)+ c*np.log(x)"
   ]
  },
  {
   "cell_type": "markdown",
   "metadata": {},
   "source": [
    "<!--start-block-->\n",
    "#### <span style=\"color:#BA2220\">>>>EXERCISE</span>\n",
    "\n",
    "Plot the randomized data generated by the \"weird\" model, with error bars.\n",
    "\n",
    "<!--\n",
    "#initial code\n",
    "np.random.seed(2)\n",
    "x = np.linspace(0.1 , 2, 100)\n",
    "yerr = 0.5+np.abs(0.5*np.random.normal(size = x.shape))\n",
    "y = weird_model(x, 2, 0.5, 3)+yerr*np.random.normal(size = x.shape)\n",
    "-->\n",
    "\n",
    "<!--\n",
    "#solution \n",
    "np.random.seed(2)\n",
    "x = np.linspace(0.1 , 2, 100)\n",
    "yerr = 0.5+np.abs(0.5*np.random.normal(size = x.shape))\n",
    "y = weird_model(x, 2, 0.5, 3)+yerr*np.random.normal(size = x.shape)\n",
    "\n",
    "plt.errorbar(x, y, yerr= yerr, fmt= 'o')\n",
    "-->"
   ]
  },
  {
   "cell_type": "code",
   "execution_count": null,
   "metadata": {},
   "outputs": [],
   "source": [
    "np.random.seed(2)\n",
    "x = np.linspace(0.1 , 2, 100)\n",
    "yerr = 0.5+np.abs(0.5*np.random.normal(size = x.shape))\n",
    "y = weird_model(x, 2, 0.5, 3)+yerr*np.random.normal(size = x.shape)"
   ]
  },
  {
   "cell_type": "code",
   "execution_count": null,
   "metadata": {},
   "outputs": [],
   "source": [
    "from lmfit.models import Model\n",
    "\n",
    "wmodel = Model(weird_model)\n",
    "\n",
    "wmodel.set_param_hint(name = 'a', value= 1, min = -10, max =10)\n",
    "wmodel.set_param_hint(name = 'b', value= 1, min = -10, max =10)\n",
    "wmodel.set_param_hint(name = 'c', value= 1, min = -10, max =10)\n",
    "\n",
    "wmodel_result = wmodel.fit(y, x=x, weights = 1/yerr, method = 'dual_annealing')\n",
    "print(wmodel_result.fit_report())\n",
    "wmodel_result.plot()"
   ]
  },
  {
   "cell_type": "markdown",
   "metadata": {},
   "source": [
    "In cases where we have time series data, or we want to evaluate a set of points all at once, it is useful to use the Minimizer class/features of lmfit. In this case, we define a residuals function which is minimized by the lmfit minimize function. This is another way to do the analysis easier."
   ]
  },
  {
   "cell_type": "code",
   "execution_count": null,
   "metadata": {},
   "outputs": [],
   "source": [
    "from lmfit import Model, minimize, fit_report\n",
    "\n",
    "def res_weird(params, x, data, error):\n",
    "    a = params['a']\n",
    "    b = params['b']\n",
    "    c = params['c']\n",
    "    val = a*np.sin(10*x) + b*np.exp(x)+ c*np.log(x)\n",
    "    return (data-val)/error"
   ]
  },
  {
   "cell_type": "code",
   "execution_count": null,
   "metadata": {},
   "outputs": [],
   "source": [
    "wmodel = Model(weird_model)\n",
    "params = wmodel.make_params()\n",
    "params['a'].set(1)\n",
    "params['b'].set(1)\n",
    "params['c'].set(1)\n",
    "\n",
    "res = minimize(res_weird, params = params, args= ( x, y, yerr))\n",
    "\n",
    "print(fit_report(res))\n",
    "\n",
    "plt.plot(x, wmodel.eval(params = res.params, x= x ))\n",
    "plt.errorbar(x, y, yerr= yerr, fmt = '.')"
   ]
  },
  {
   "cell_type": "markdown",
   "metadata": {},
   "source": [
    "<!--start-block-->\n",
    "#### <span style=\"color:purple\">>>>QUESTION</span>\n",
    "\n",
    "\n",
    "Question text needed...\n",
    "\n",
    "\n",
    "<br>\n",
    "<!--end-block-->"
   ]
  },
  {
   "cell_type": "markdown",
   "metadata": {},
   "source": [
    "<!--start-block-->\n",
    "<hr style=\"height: 1px;\">\n",
    "\n",
    "## 3.4 Analysis of Time Series Data\n",
    "\n",
    "Now, we are going to go through an example that is more relevent to the project. Now, this analysis is going to be similar to what you are going to do in your project, but its going to be different in several ways."
   ]
  },
  {
   "cell_type": "code",
   "execution_count": null,
   "metadata": {},
   "outputs": [],
   "source": [
    "from functions import gwfreq, osc_scale, osc, lower, higher\n",
    "from gwpy.timeseries import TimeSeries\n",
    "import h5py\n",
    "from scipy.interpolate import interp1d\n",
    "\n",
    "import os\n",
    "\n",
    "fn = 'H-H1_GWOSC_16KHZ_R1-1126257415-4096.hdf5' # data file\n",
    "tevent = 1126259462.422 # Mon Sep 14 09:50:45 GMT 2015\n",
    "evtname = 'GW150914' # event name\n",
    "\n",
    "detector = 'H1' # detecotr: L1 or H1\n",
    "\n",
    "strain = TimeSeries.read(fn, format='hdf5.losc')\n",
    "center = int(tevent)\n",
    "strain = strain.crop(center-16, center+16)\n",
    "asd = strain.asd(fftlength = 1)\n",
    "\n",
    "NRtime, NR_H1 = np.genfromtxt('GW150914_4_NR_waveform.txt').transpose()\n",
    "nrdata= TimeSeries(NR_H1, times = NRtime)"
   ]
  },
  {
   "cell_type": "markdown",
   "metadata": {},
   "source": [
    "Define a function that whitens and filters the data."
   ]
  },
  {
   "cell_type": "code",
   "execution_count": null,
   "metadata": {},
   "outputs": [],
   "source": [
    "def whiten_and_bandpass(strain, asd, bp_low, bp_high):\n",
    "    fft = strain.fft()\n",
    "    asdinterp = interp1d(asd.frequencies, asd)\n",
    "    asddiv =asdinterp(fft.frequencies)\n",
    "    white_freq = fft/asddiv\n",
    "    white = white_freq.ifft()\n",
    "    whitebp = white.bandpass(bp_low,bp_high)\n",
    "    return TimeSeries(whitebp, t0=strain.t0)"
   ]
  },
  {
   "cell_type": "code",
   "execution_count": null,
   "metadata": {},
   "outputs": [],
   "source": [
    "low_pass = lower()\n",
    "high_pass = higher()\n",
    "\n",
    "whitened_data = whiten_and_bandpass(strain, asd, low_pass, high_pass)\n",
    "wnr = whiten_and_bandpass(nrdata, asd, low_pass, high_pass).crop(-0.1, 0.05)\n",
    "zoom = whitened_data.crop(tevent-0.09, tevent+0.05)\n",
    "zoom.t0 = -0.09\n",
    "x = np.array(zoom.times)\n",
    "white_data_bp_zoom = zoom.value\n",
    "plt.plot(x, white_data_bp_zoom)\n",
    "plt.plot(wnr.times, wnr.value)"
   ]
  },
  {
   "cell_type": "markdown",
   "metadata": {},
   "source": [
    "Define a funciton that..."
   ]
  },
  {
   "cell_type": "code",
   "execution_count": null,
   "metadata": {},
   "outputs": [],
   "source": [
    "# define osc_dif for lmfit::minimize()\n",
    "def osc_dif(params, x, data, data_asd, low_pass, high_pass):\n",
    "    iM=params[\"Mc\"]\n",
    "    iT0=params[\"t0\"]\n",
    "    norm=params[\"C\"]\n",
    "    phi=params[\"phi\"]\n",
    "    model_strain = TimeSeries(osc(x, iM, iT0, phi, norm), times = x)\n",
    "    val = whiten_and_bandpass(model_strain, data_asd, low_pass, high_pass)\n",
    "    residuals = val-data\n",
    "    return residuals\n",
    "\n",
    "def osc_white(t, Mc, t0, phi, C, data_asd=None, low_pass = None, high_pass = None):\n",
    "    model_strain = TimeSeries(osc(t, Mc, t0, phi, C), times = t)\n",
    "    val = whiten_and_bandpass(model_strain, data_asd, low_pass, high_pass) \n",
    "    return val"
   ]
  },
  {
   "cell_type": "markdown",
   "metadata": {},
   "source": [
    "Plot..."
   ]
  },
  {
   "cell_type": "code",
   "execution_count": null,
   "metadata": {},
   "outputs": [],
   "source": [
    "owmodel = lmfit.Model(osc_white, data_asd = asd, low_pass = low_pass, high_pass = high_pass)\n",
    "owmodel.set_param_hint(name = 'Mc', value = 25, min = 10, max = 30)\n",
    "owmodel.set_param_hint(name = 't0', value = 0.004, min = -0.015, max = 0.015)\n",
    "owmodel.set_param_hint(name = 'C', value = 0.18853556, min = 0.01, max = 10)\n",
    "owmodel.set_param_hint(name = 'phi', value = 1.24685424, min = 0, max = 2*np.pi)\n",
    "\n",
    "omodel = lmfit.Model(osc_scale)\n",
    "omodel.set_param_hint(name = 'Mc', value = 25)\n",
    "omodel.set_param_hint(name = 't0', value = 0.01)\n",
    "omodel.set_param_hint(name = 'C', value = 0.18853556)\n",
    "omodel.set_param_hint(name = 'phi', value = 1.24685424)\n",
    "\n",
    "result_white = owmodel.fit(white_data_bp_zoom, t = x)\n",
    "print(result_white.fit_report())\n",
    "result_white.plot(datafmt='-')\n",
    "\n",
    "result = omodel.fit(white_data_bp_zoom, t = x)\n",
    "print(result.fit_report())\n",
    "result.plot(datafmt='-')\n",
    "\n"
   ]
  },
  {
   "cell_type": "code",
   "execution_count": null,
   "metadata": {},
   "outputs": [],
   "source": [
    "import lmfit\n",
    "from lmfit import Model, minimize, fit_report, Parameters\n",
    "\n",
    "model = lmfit.Model(osc_white)\n",
    "p = model.make_params()\n",
    "p['Mc'].set(25)     # Mass guess\n",
    "p['t0'].set(-0.005)  # By construction we put the merger in the center\n",
    "p['C'].set(0.18853556)      # normalization guess\n",
    "p['phi'].set(1.24685424)    # Phase guess\n",
    "out = minimize(osc_dif, params=p, args=(x, white_data_bp_zoom, asd, low_pass, high_pass))\n",
    "print(fit_report(out))\n",
    "best_fit = model.eval(params=out.params,t=x, data_asd = asd, low_pass = low_pass, high_pass = high_pass)\n",
    "init_fit = model.eval(params=p,t=x, data_asd = asd, low_pass = low_pass, high_pass = high_pass)\n",
    "plt.plot(x, best_fit,'r',label='best fit')\n",
    "#plt.plot(x, init_fit,'b',label='init')\n",
    "plt.plot(x, white_data_bp_zoom)\n",
    "plt.plot(wnr.times, wnr.value)\n",
    "plt.show()"
   ]
  },
  {
   "cell_type": "markdown",
   "metadata": {},
   "source": [
    "<!--start-block-->\n",
    "#### <span style=\"color:purple\">>>>QUESTION</span>\n",
    "\n",
    "\n",
    "Question text needed...\n",
    "\n",
    "\n",
    "<br>\n",
    "<!--end-block-->"
   ]
  },
  {
   "cell_type": "code",
   "execution_count": null,
   "metadata": {},
   "outputs": [],
   "source": []
  }
 ],
 "metadata": {
  "kernelspec": {
   "display_name": "Python 3",
   "language": "python",
   "name": "python3"
  },
  "language_info": {
   "codemirror_mode": {
    "name": "ipython",
    "version": 3
   },
   "file_extension": ".py",
   "mimetype": "text/x-python",
   "name": "python",
   "nbconvert_exporter": "python",
   "pygments_lexer": "ipython3",
   "version": "3.7.1"
  }
 },
 "nbformat": 4,
 "nbformat_minor": 4
}
